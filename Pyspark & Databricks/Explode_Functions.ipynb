{
 "cells": [
  {
   "cell_type": "markdown",
   "metadata": {
    "application/vnd.databricks.v1+cell": {
     "cellMetadata": {},
     "inputWidgets": {},
     "nuid": "7b324821-4fc7-4674-8cdb-b21f7da7922f",
     "showTitle": false,
     "title": ""
    }
   },
   "source": [
    "## Creating DataFrames with ArrayType Columns"
   ]
  },
  {
   "cell_type": "code",
   "execution_count": 0,
   "metadata": {
    "application/vnd.databricks.v1+cell": {
     "cellMetadata": {
      "byteLimit": 2048000,
      "rowLimit": 10000
     },
     "inputWidgets": {},
     "nuid": "0375e628-e3bd-4703-bea4-bb826d6f0995",
     "showTitle": false,
     "title": ""
    }
   },
   "outputs": [
    {
     "output_type": "stream",
     "name": "stdout",
     "output_type": "stream",
     "text": [
      "root\n |-- name: string (nullable = true)\n |-- Applications: array (nullable = true)\n |    |-- element: string (containsNull = true)\n\n"
     ]
    },
    {
     "output_type": "display_data",
     "data": {
      "text/html": [
       "<style scoped>\n",
       "  .table-result-container {\n",
       "    max-height: 300px;\n",
       "    overflow: auto;\n",
       "  }\n",
       "  table, th, td {\n",
       "    border: 1px solid black;\n",
       "    border-collapse: collapse;\n",
       "  }\n",
       "  th, td {\n",
       "    padding: 5px;\n",
       "  }\n",
       "  th {\n",
       "    text-align: left;\n",
       "  }\n",
       "</style><div class='table-result-container'><table class='table-result'><thead style='background-color: white'><tr><th>name</th><th>Applications</th></tr></thead><tbody><tr><td>Raja</td><td>List(TV, Refregirent, Oven, AC)</td></tr><tr><td>Raghu</td><td>List(AC, Washing machine, null)</td></tr><tr><td>Ramesh</td><td>List(GRinder, TV, null)</td></tr><tr><td>Rajesh</td><td>null</td></tr></tbody></table></div>"
      ]
     },
     "metadata": {
      "application/vnd.databricks.v1+output": {
       "addedWidgets": {},
       "aggData": [],
       "aggError": "",
       "aggOverflow": false,
       "aggSchema": [],
       "aggSeriesLimitReached": false,
       "aggType": "",
       "arguments": {},
       "columnCustomDisplayInfos": {},
       "data": [
        [
         "Raja",
         [
          "TV",
          "Refregirent",
          "Oven",
          "AC"
         ]
        ],
        [
         "Raghu",
         [
          "AC",
          "Washing machine",
          null
         ]
        ],
        [
         "Ramesh",
         [
          "GRinder",
          "TV",
          null
         ]
        ],
        [
         "Rajesh",
         null
        ]
       ],
       "datasetInfos": [],
       "dbfsResultPath": null,
       "isJsonSchema": true,
       "metadata": {},
       "overflow": false,
       "plotOptions": {
        "customPlotOptions": {},
        "displayType": "table",
        "pivotAggregation": null,
        "pivotColumns": null,
        "xColumns": null,
        "yColumns": null
       },
       "removedWidgets": [],
       "schema": [
        {
         "metadata": "{}",
         "name": "name",
         "type": "\"string\""
        },
        {
         "metadata": "{}",
         "name": "Applications",
         "type": "{\"type\":\"array\",\"elementType\":\"string\",\"containsNull\":true}"
        }
       ],
       "type": "table"
      }
     },
     "output_type": "display_data"
    }
   ],
   "source": [
    "array_applications=[\n",
    "    (\"Raja\",[\"TV\",\"Refregirent\",\"Oven\",\"AC\"]),\n",
    "    (\"Raghu\",[\"AC\",\"Washing machine\",None]),\n",
    "    (\"Ramesh\",[\"GRinder\",\"TV\",None]),\n",
    "    (\"Rajesh\",None)\n",
    "]\n",
    "df_app=spark.createDataFrame(data=array_applications,schema=[\"name\",\"Applications\"])\n",
    "df_app.printSchema()\n",
    "display(df_app)"
   ]
  },
  {
   "cell_type": "markdown",
   "metadata": {
    "application/vnd.databricks.v1+cell": {
     "cellMetadata": {},
     "inputWidgets": {},
     "nuid": "0dd94df4-a62b-44c9-b995-26794deefa9b",
     "showTitle": false,
     "title": ""
    }
   },
   "source": [
    "## Creating DataFrames with MapType Columns"
   ]
  },
  {
   "cell_type": "code",
   "execution_count": 0,
   "metadata": {
    "application/vnd.databricks.v1+cell": {
     "cellMetadata": {
      "byteLimit": 2048000,
      "rowLimit": 10000
     },
     "inputWidgets": {},
     "nuid": "f2fad5a9-a6c4-4f8c-ba0d-8ca6e103c528",
     "showTitle": false,
     "title": ""
    }
   },
   "outputs": [
    {
     "output_type": "stream",
     "name": "stdout",
     "output_type": "stream",
     "text": [
      "root\n |-- name: string (nullable = true)\n |-- Brand: map (nullable = true)\n |    |-- key: string\n |    |-- value: string (valueContainsNull = true)\n\n"
     ]
    },
    {
     "output_type": "display_data",
     "data": {
      "text/html": [
       "<style scoped>\n",
       "  .table-result-container {\n",
       "    max-height: 300px;\n",
       "    overflow: auto;\n",
       "  }\n",
       "  table, th, td {\n",
       "    border: 1px solid black;\n",
       "    border-collapse: collapse;\n",
       "  }\n",
       "  th, td {\n",
       "    padding: 5px;\n",
       "  }\n",
       "  th {\n",
       "    text-align: left;\n",
       "  }\n",
       "</style><div class='table-result-container'><table class='table-result'><thead style='background-color: white'><tr><th>name</th><th>Brand</th></tr></thead><tbody><tr><td>Raja</td><td>Map(AC -> Voltas, TV -> LG, Refregirent -> Samsung, Oven -> Philips)</td></tr><tr><td>Raghu</td><td>Map(AC -> Sansung, Washing machine -> LG)</td></tr><tr><td>Ramesh</td><td>Map(TV -> , GRinder -> Preethi)</td></tr><tr><td>Rajesh</td><td>null</td></tr></tbody></table></div>"
      ]
     },
     "metadata": {
      "application/vnd.databricks.v1+output": {
       "addedWidgets": {},
       "aggData": [],
       "aggError": "",
       "aggOverflow": false,
       "aggSchema": [],
       "aggSeriesLimitReached": false,
       "aggType": "",
       "arguments": {},
       "columnCustomDisplayInfos": {},
       "data": [
        [
         "Raja",
         {
          "AC": "Voltas",
          "Oven": "Philips",
          "Refregirent": "Samsung",
          "TV": "LG"
         }
        ],
        [
         "Raghu",
         {
          "AC": "Sansung",
          "Washing machine": "LG"
         }
        ],
        [
         "Ramesh",
         {
          "GRinder": "Preethi",
          "TV": ""
         }
        ],
        [
         "Rajesh",
         null
        ]
       ],
       "datasetInfos": [],
       "dbfsResultPath": null,
       "isJsonSchema": true,
       "metadata": {},
       "overflow": false,
       "plotOptions": {
        "customPlotOptions": {},
        "displayType": "table",
        "pivotAggregation": null,
        "pivotColumns": null,
        "xColumns": null,
        "yColumns": null
       },
       "removedWidgets": [],
       "schema": [
        {
         "metadata": "{}",
         "name": "name",
         "type": "\"string\""
        },
        {
         "metadata": "{}",
         "name": "Brand",
         "type": "{\"type\":\"map\",\"keyType\":\"string\",\"valueType\":\"string\",\"valueContainsNull\":true}"
        }
       ],
       "type": "table"
      }
     },
     "output_type": "display_data"
    }
   ],
   "source": [
    "map_brand=[\n",
    "    (\"Raja\",{\"TV\":\"LG\",\"Refregirent\":\"Samsung\",\"Oven\":\"Philips\",\"AC\":\"Voltas\"}),\n",
    "    (\"Raghu\",{\"AC\":\"Sansung\",\"Washing machine\":\"LG\"}),\n",
    "    (\"Ramesh\",{\"GRinder\":\"Preethi\",\"TV\":\"\"}),\n",
    "    (\"Rajesh\",None)\n",
    "]\n",
    "df_brand=spark.createDataFrame(data=map_brand,schema=[\"name\",\"Brand\"])\n",
    "df_brand.printSchema()\n",
    "display(df_brand)"
   ]
  },
  {
   "cell_type": "markdown",
   "metadata": {
    "application/vnd.databricks.v1+cell": {
     "cellMetadata": {},
     "inputWidgets": {},
     "nuid": "c54a6d47-dde8-4d6a-bb3c-74ae8ece5347",
     "showTitle": false,
     "title": ""
    }
   },
   "source": [
    "# Explode array fields"
   ]
  },
  {
   "cell_type": "code",
   "execution_count": 0,
   "metadata": {
    "application/vnd.databricks.v1+cell": {
     "cellMetadata": {
      "byteLimit": 2048000,
      "rowLimit": 10000
     },
     "inputWidgets": {},
     "nuid": "e361bc2c-73a6-42a8-94b8-91011c07e087",
     "showTitle": false,
     "title": ""
    }
   },
   "outputs": [
    {
     "output_type": "stream",
     "name": "stdout",
     "output_type": "stream",
     "text": [
      "root\n |-- name: string (nullable = true)\n |-- Applications: array (nullable = true)\n |    |-- element: string (containsNull = true)\n\n"
     ]
    },
    {
     "output_type": "display_data",
     "data": {
      "text/html": [
       "<style scoped>\n",
       "  .table-result-container {\n",
       "    max-height: 300px;\n",
       "    overflow: auto;\n",
       "  }\n",
       "  table, th, td {\n",
       "    border: 1px solid black;\n",
       "    border-collapse: collapse;\n",
       "  }\n",
       "  th, td {\n",
       "    padding: 5px;\n",
       "  }\n",
       "  th {\n",
       "    text-align: left;\n",
       "  }\n",
       "</style><div class='table-result-container'><table class='table-result'><thead style='background-color: white'><tr><th>name</th><th>Applications</th></tr></thead><tbody><tr><td>Raja</td><td>List(TV, Refregirent, Oven, AC)</td></tr><tr><td>Raghu</td><td>List(AC, Washing machine, null)</td></tr><tr><td>Ramesh</td><td>List(GRinder, TV, null)</td></tr><tr><td>Rajesh</td><td>null</td></tr></tbody></table></div>"
      ]
     },
     "metadata": {
      "application/vnd.databricks.v1+output": {
       "addedWidgets": {},
       "aggData": [],
       "aggError": "",
       "aggOverflow": false,
       "aggSchema": [],
       "aggSeriesLimitReached": false,
       "aggType": "",
       "arguments": {},
       "columnCustomDisplayInfos": {},
       "data": [
        [
         "Raja",
         [
          "TV",
          "Refregirent",
          "Oven",
          "AC"
         ]
        ],
        [
         "Raghu",
         [
          "AC",
          "Washing machine",
          null
         ]
        ],
        [
         "Ramesh",
         [
          "GRinder",
          "TV",
          null
         ]
        ],
        [
         "Rajesh",
         null
        ]
       ],
       "datasetInfos": [],
       "dbfsResultPath": null,
       "isJsonSchema": true,
       "metadata": {},
       "overflow": false,
       "plotOptions": {
        "customPlotOptions": {},
        "displayType": "table",
        "pivotAggregation": null,
        "pivotColumns": null,
        "xColumns": null,
        "yColumns": null
       },
       "removedWidgets": [],
       "schema": [
        {
         "metadata": "{}",
         "name": "name",
         "type": "\"string\""
        },
        {
         "metadata": "{}",
         "name": "Applications",
         "type": "{\"type\":\"array\",\"elementType\":\"string\",\"containsNull\":true}"
        }
       ],
       "type": "table"
      }
     },
     "output_type": "display_data"
    },
    {
     "output_type": "stream",
     "name": "stdout",
     "output_type": "stream",
     "text": [
      "root\n |-- name: string (nullable = true)\n |-- col: string (nullable = true)\n\n"
     ]
    },
    {
     "output_type": "display_data",
     "data": {
      "text/html": [
       "<style scoped>\n",
       "  .table-result-container {\n",
       "    max-height: 300px;\n",
       "    overflow: auto;\n",
       "  }\n",
       "  table, th, td {\n",
       "    border: 1px solid black;\n",
       "    border-collapse: collapse;\n",
       "  }\n",
       "  th, td {\n",
       "    padding: 5px;\n",
       "  }\n",
       "  th {\n",
       "    text-align: left;\n",
       "  }\n",
       "</style><div class='table-result-container'><table class='table-result'><thead style='background-color: white'><tr><th>name</th><th>col</th></tr></thead><tbody><tr><td>Raja</td><td>TV</td></tr><tr><td>Raja</td><td>Refregirent</td></tr><tr><td>Raja</td><td>Oven</td></tr><tr><td>Raja</td><td>AC</td></tr><tr><td>Raghu</td><td>AC</td></tr><tr><td>Raghu</td><td>Washing machine</td></tr><tr><td>Raghu</td><td>null</td></tr><tr><td>Ramesh</td><td>GRinder</td></tr><tr><td>Ramesh</td><td>TV</td></tr><tr><td>Ramesh</td><td>null</td></tr></tbody></table></div>"
      ]
     },
     "metadata": {
      "application/vnd.databricks.v1+output": {
       "addedWidgets": {},
       "aggData": [],
       "aggError": "",
       "aggOverflow": false,
       "aggSchema": [],
       "aggSeriesLimitReached": false,
       "aggType": "",
       "arguments": {},
       "columnCustomDisplayInfos": {},
       "data": [
        [
         "Raja",
         "TV"
        ],
        [
         "Raja",
         "Refregirent"
        ],
        [
         "Raja",
         "Oven"
        ],
        [
         "Raja",
         "AC"
        ],
        [
         "Raghu",
         "AC"
        ],
        [
         "Raghu",
         "Washing machine"
        ],
        [
         "Raghu",
         null
        ],
        [
         "Ramesh",
         "GRinder"
        ],
        [
         "Ramesh",
         "TV"
        ],
        [
         "Ramesh",
         null
        ]
       ],
       "datasetInfos": [],
       "dbfsResultPath": null,
       "isJsonSchema": true,
       "metadata": {},
       "overflow": false,
       "plotOptions": {
        "customPlotOptions": {},
        "displayType": "table",
        "pivotAggregation": null,
        "pivotColumns": null,
        "xColumns": null,
        "yColumns": null
       },
       "removedWidgets": [],
       "schema": [
        {
         "metadata": "{}",
         "name": "name",
         "type": "\"string\""
        },
        {
         "metadata": "{}",
         "name": "col",
         "type": "\"string\""
        }
       ],
       "type": "table"
      }
     },
     "output_type": "display_data"
    }
   ],
   "source": [
    "from pyspark.sql.functions import explode\n",
    "df2=df_app.select(df_app.name,explode(df_app.Applications))\n",
    "df_app.printSchema()\n",
    "display(df_app)\n",
    "df2.printSchema()\n",
    "display(df2)\n"
   ]
  },
  {
   "cell_type": "markdown",
   "metadata": {
    "application/vnd.databricks.v1+cell": {
     "cellMetadata": {},
     "inputWidgets": {},
     "nuid": "2f8c3622-81e1-44a5-8d43-4be8f3f938bb",
     "showTitle": false,
     "title": ""
    }
   },
   "source": [
    "### Explode map field"
   ]
  },
  {
   "cell_type": "code",
   "execution_count": 0,
   "metadata": {
    "application/vnd.databricks.v1+cell": {
     "cellMetadata": {
      "byteLimit": 2048000,
      "rowLimit": 10000
     },
     "inputWidgets": {},
     "nuid": "332aa484-c61a-4f3e-8204-fdb1729e3a8e",
     "showTitle": false,
     "title": ""
    }
   },
   "outputs": [
    {
     "output_type": "stream",
     "name": "stdout",
     "output_type": "stream",
     "text": [
      "root\n |-- name: string (nullable = true)\n |-- Brand: map (nullable = true)\n |    |-- key: string\n |    |-- value: string (valueContainsNull = true)\n\n"
     ]
    },
    {
     "output_type": "display_data",
     "data": {
      "text/html": [
       "<style scoped>\n",
       "  .table-result-container {\n",
       "    max-height: 300px;\n",
       "    overflow: auto;\n",
       "  }\n",
       "  table, th, td {\n",
       "    border: 1px solid black;\n",
       "    border-collapse: collapse;\n",
       "  }\n",
       "  th, td {\n",
       "    padding: 5px;\n",
       "  }\n",
       "  th {\n",
       "    text-align: left;\n",
       "  }\n",
       "</style><div class='table-result-container'><table class='table-result'><thead style='background-color: white'><tr><th>name</th><th>Brand</th></tr></thead><tbody><tr><td>Raja</td><td>Map(AC -> Voltas, TV -> LG, Refregirent -> Samsung, Oven -> Philips)</td></tr><tr><td>Raghu</td><td>Map(AC -> Sansung, Washing machine -> LG)</td></tr><tr><td>Ramesh</td><td>Map(TV -> , GRinder -> Preethi)</td></tr><tr><td>Rajesh</td><td>null</td></tr></tbody></table></div>"
      ]
     },
     "metadata": {
      "application/vnd.databricks.v1+output": {
       "addedWidgets": {},
       "aggData": [],
       "aggError": "",
       "aggOverflow": false,
       "aggSchema": [],
       "aggSeriesLimitReached": false,
       "aggType": "",
       "arguments": {},
       "columnCustomDisplayInfos": {},
       "data": [
        [
         "Raja",
         {
          "AC": "Voltas",
          "Oven": "Philips",
          "Refregirent": "Samsung",
          "TV": "LG"
         }
        ],
        [
         "Raghu",
         {
          "AC": "Sansung",
          "Washing machine": "LG"
         }
        ],
        [
         "Ramesh",
         {
          "GRinder": "Preethi",
          "TV": ""
         }
        ],
        [
         "Rajesh",
         null
        ]
       ],
       "datasetInfos": [],
       "dbfsResultPath": null,
       "isJsonSchema": true,
       "metadata": {},
       "overflow": false,
       "plotOptions": {
        "customPlotOptions": {},
        "displayType": "table",
        "pivotAggregation": null,
        "pivotColumns": null,
        "xColumns": null,
        "yColumns": null
       },
       "removedWidgets": [],
       "schema": [
        {
         "metadata": "{}",
         "name": "name",
         "type": "\"string\""
        },
        {
         "metadata": "{}",
         "name": "Brand",
         "type": "{\"type\":\"map\",\"keyType\":\"string\",\"valueType\":\"string\",\"valueContainsNull\":true}"
        }
       ],
       "type": "table"
      }
     },
     "output_type": "display_data"
    },
    {
     "output_type": "stream",
     "name": "stdout",
     "output_type": "stream",
     "text": [
      "root\n |-- name: string (nullable = true)\n |-- key: string (nullable = false)\n |-- value: string (nullable = true)\n\n"
     ]
    },
    {
     "output_type": "display_data",
     "data": {
      "text/html": [
       "<style scoped>\n",
       "  .table-result-container {\n",
       "    max-height: 300px;\n",
       "    overflow: auto;\n",
       "  }\n",
       "  table, th, td {\n",
       "    border: 1px solid black;\n",
       "    border-collapse: collapse;\n",
       "  }\n",
       "  th, td {\n",
       "    padding: 5px;\n",
       "  }\n",
       "  th {\n",
       "    text-align: left;\n",
       "  }\n",
       "</style><div class='table-result-container'><table class='table-result'><thead style='background-color: white'><tr><th>name</th><th>key</th><th>value</th></tr></thead><tbody><tr><td>Raja</td><td>AC</td><td>Voltas</td></tr><tr><td>Raja</td><td>TV</td><td>LG</td></tr><tr><td>Raja</td><td>Refregirent</td><td>Samsung</td></tr><tr><td>Raja</td><td>Oven</td><td>Philips</td></tr><tr><td>Raghu</td><td>AC</td><td>Sansung</td></tr><tr><td>Raghu</td><td>Washing machine</td><td>LG</td></tr><tr><td>Ramesh</td><td>TV</td><td></td></tr><tr><td>Ramesh</td><td>GRinder</td><td>Preethi</td></tr></tbody></table></div>"
      ]
     },
     "metadata": {
      "application/vnd.databricks.v1+output": {
       "addedWidgets": {},
       "aggData": [],
       "aggError": "",
       "aggOverflow": false,
       "aggSchema": [],
       "aggSeriesLimitReached": false,
       "aggType": "",
       "arguments": {},
       "columnCustomDisplayInfos": {},
       "data": [
        [
         "Raja",
         "AC",
         "Voltas"
        ],
        [
         "Raja",
         "TV",
         "LG"
        ],
        [
         "Raja",
         "Refregirent",
         "Samsung"
        ],
        [
         "Raja",
         "Oven",
         "Philips"
        ],
        [
         "Raghu",
         "AC",
         "Sansung"
        ],
        [
         "Raghu",
         "Washing machine",
         "LG"
        ],
        [
         "Ramesh",
         "TV",
         ""
        ],
        [
         "Ramesh",
         "GRinder",
         "Preethi"
        ]
       ],
       "datasetInfos": [],
       "dbfsResultPath": null,
       "isJsonSchema": true,
       "metadata": {},
       "overflow": false,
       "plotOptions": {
        "customPlotOptions": {},
        "displayType": "table",
        "pivotAggregation": null,
        "pivotColumns": null,
        "xColumns": null,
        "yColumns": null
       },
       "removedWidgets": [],
       "schema": [
        {
         "metadata": "{}",
         "name": "name",
         "type": "\"string\""
        },
        {
         "metadata": "{}",
         "name": "key",
         "type": "\"string\""
        },
        {
         "metadata": "{}",
         "name": "value",
         "type": "\"string\""
        }
       ],
       "type": "table"
      }
     },
     "output_type": "display_data"
    }
   ],
   "source": [
    "df3=df_brand.select(df_brand.name,explode(df_brand.Brand))\n",
    "df_brand.printSchema()\n",
    "display(df_brand)\n",
    "df3.printSchema()\n",
    "display(df3)\n"
   ]
  },
  {
   "cell_type": "markdown",
   "metadata": {
    "application/vnd.databricks.v1+cell": {
     "cellMetadata": {},
     "inputWidgets": {},
     "nuid": "7e1409da-8dfc-4f91-9327-5315a8495d27",
     "showTitle": false,
     "title": ""
    }
   },
   "source": [
    "Explode_outer consider null values"
   ]
  },
  {
   "cell_type": "code",
   "execution_count": 0,
   "metadata": {
    "application/vnd.databricks.v1+cell": {
     "cellMetadata": {
      "byteLimit": 2048000,
      "rowLimit": 10000
     },
     "inputWidgets": {},
     "nuid": "62a4f054-8f31-4639-9b1f-1016514c5363",
     "showTitle": false,
     "title": ""
    }
   },
   "outputs": [
    {
     "output_type": "stream",
     "name": "stdout",
     "output_type": "stream",
     "text": [
      "root\n |-- name: string (nullable = true)\n |-- Applications: array (nullable = true)\n |    |-- element: string (containsNull = true)\n\n"
     ]
    },
    {
     "output_type": "display_data",
     "data": {
      "text/html": [
       "<style scoped>\n",
       "  .table-result-container {\n",
       "    max-height: 300px;\n",
       "    overflow: auto;\n",
       "  }\n",
       "  table, th, td {\n",
       "    border: 1px solid black;\n",
       "    border-collapse: collapse;\n",
       "  }\n",
       "  th, td {\n",
       "    padding: 5px;\n",
       "  }\n",
       "  th {\n",
       "    text-align: left;\n",
       "  }\n",
       "</style><div class='table-result-container'><table class='table-result'><thead style='background-color: white'><tr><th>name</th><th>Applications</th></tr></thead><tbody><tr><td>Raja</td><td>List(TV, Refregirent, Oven, AC)</td></tr><tr><td>Raghu</td><td>List(AC, Washing machine, null)</td></tr><tr><td>Ramesh</td><td>List(GRinder, TV, null)</td></tr><tr><td>Rajesh</td><td>null</td></tr></tbody></table></div>"
      ]
     },
     "metadata": {
      "application/vnd.databricks.v1+output": {
       "addedWidgets": {},
       "aggData": [],
       "aggError": "",
       "aggOverflow": false,
       "aggSchema": [],
       "aggSeriesLimitReached": false,
       "aggType": "",
       "arguments": {},
       "columnCustomDisplayInfos": {},
       "data": [
        [
         "Raja",
         [
          "TV",
          "Refregirent",
          "Oven",
          "AC"
         ]
        ],
        [
         "Raghu",
         [
          "AC",
          "Washing machine",
          null
         ]
        ],
        [
         "Ramesh",
         [
          "GRinder",
          "TV",
          null
         ]
        ],
        [
         "Rajesh",
         null
        ]
       ],
       "datasetInfos": [],
       "dbfsResultPath": null,
       "isJsonSchema": true,
       "metadata": {},
       "overflow": false,
       "plotOptions": {
        "customPlotOptions": {},
        "displayType": "table",
        "pivotAggregation": null,
        "pivotColumns": null,
        "xColumns": null,
        "yColumns": null
       },
       "removedWidgets": [],
       "schema": [
        {
         "metadata": "{}",
         "name": "name",
         "type": "\"string\""
        },
        {
         "metadata": "{}",
         "name": "Applications",
         "type": "{\"type\":\"array\",\"elementType\":\"string\",\"containsNull\":true}"
        }
       ],
       "type": "table"
      }
     },
     "output_type": "display_data"
    },
    {
     "output_type": "stream",
     "name": "stdout",
     "output_type": "stream",
     "text": [
      "root\n |-- name: string (nullable = true)\n |-- col: string (nullable = true)\n\n"
     ]
    },
    {
     "output_type": "display_data",
     "data": {
      "text/html": [
       "<style scoped>\n",
       "  .table-result-container {\n",
       "    max-height: 300px;\n",
       "    overflow: auto;\n",
       "  }\n",
       "  table, th, td {\n",
       "    border: 1px solid black;\n",
       "    border-collapse: collapse;\n",
       "  }\n",
       "  th, td {\n",
       "    padding: 5px;\n",
       "  }\n",
       "  th {\n",
       "    text-align: left;\n",
       "  }\n",
       "</style><div class='table-result-container'><table class='table-result'><thead style='background-color: white'><tr><th>name</th><th>col</th></tr></thead><tbody><tr><td>Raja</td><td>TV</td></tr><tr><td>Raja</td><td>Refregirent</td></tr><tr><td>Raja</td><td>Oven</td></tr><tr><td>Raja</td><td>AC</td></tr><tr><td>Raghu</td><td>AC</td></tr><tr><td>Raghu</td><td>Washing machine</td></tr><tr><td>Raghu</td><td>null</td></tr><tr><td>Ramesh</td><td>GRinder</td></tr><tr><td>Ramesh</td><td>TV</td></tr><tr><td>Ramesh</td><td>null</td></tr><tr><td>Rajesh</td><td>null</td></tr></tbody></table></div>"
      ]
     },
     "metadata": {
      "application/vnd.databricks.v1+output": {
       "addedWidgets": {},
       "aggData": [],
       "aggError": "",
       "aggOverflow": false,
       "aggSchema": [],
       "aggSeriesLimitReached": false,
       "aggType": "",
       "arguments": {},
       "columnCustomDisplayInfos": {},
       "data": [
        [
         "Raja",
         "TV"
        ],
        [
         "Raja",
         "Refregirent"
        ],
        [
         "Raja",
         "Oven"
        ],
        [
         "Raja",
         "AC"
        ],
        [
         "Raghu",
         "AC"
        ],
        [
         "Raghu",
         "Washing machine"
        ],
        [
         "Raghu",
         null
        ],
        [
         "Ramesh",
         "GRinder"
        ],
        [
         "Ramesh",
         "TV"
        ],
        [
         "Ramesh",
         null
        ],
        [
         "Rajesh",
         null
        ]
       ],
       "datasetInfos": [],
       "dbfsResultPath": null,
       "isJsonSchema": true,
       "metadata": {},
       "overflow": false,
       "plotOptions": {
        "customPlotOptions": {},
        "displayType": "table",
        "pivotAggregation": null,
        "pivotColumns": null,
        "xColumns": null,
        "yColumns": null
       },
       "removedWidgets": [],
       "schema": [
        {
         "metadata": "{}",
         "name": "name",
         "type": "\"string\""
        },
        {
         "metadata": "{}",
         "name": "col",
         "type": "\"string\""
        }
       ],
       "type": "table"
      }
     },
     "output_type": "display_data"
    }
   ],
   "source": [
    "from pyspark.sql.functions import explode_outer\n",
    "df2=df_app.select(df_app.name,explode_outer(df_app.Applications))\n",
    "df_app.printSchema()\n",
    "display(df_app)\n",
    "df2.printSchema()\n",
    "display(df2)\n"
   ]
  },
  {
   "cell_type": "code",
   "execution_count": 0,
   "metadata": {
    "application/vnd.databricks.v1+cell": {
     "cellMetadata": {
      "byteLimit": 2048000,
      "rowLimit": 10000
     },
     "inputWidgets": {},
     "nuid": "213aa12e-786f-4ea3-9e32-6e27b601b3ab",
     "showTitle": false,
     "title": ""
    }
   },
   "outputs": [
    {
     "output_type": "stream",
     "name": "stdout",
     "output_type": "stream",
     "text": [
      "root\n |-- name: string (nullable = true)\n |-- Brand: map (nullable = true)\n |    |-- key: string\n |    |-- value: string (valueContainsNull = true)\n\n"
     ]
    },
    {
     "output_type": "display_data",
     "data": {
      "text/html": [
       "<style scoped>\n",
       "  .table-result-container {\n",
       "    max-height: 300px;\n",
       "    overflow: auto;\n",
       "  }\n",
       "  table, th, td {\n",
       "    border: 1px solid black;\n",
       "    border-collapse: collapse;\n",
       "  }\n",
       "  th, td {\n",
       "    padding: 5px;\n",
       "  }\n",
       "  th {\n",
       "    text-align: left;\n",
       "  }\n",
       "</style><div class='table-result-container'><table class='table-result'><thead style='background-color: white'><tr><th>name</th><th>Brand</th></tr></thead><tbody><tr><td>Raja</td><td>Map(AC -> Voltas, TV -> LG, Refregirent -> Samsung, Oven -> Philips)</td></tr><tr><td>Raghu</td><td>Map(AC -> Sansung, Washing machine -> LG)</td></tr><tr><td>Ramesh</td><td>Map(TV -> , GRinder -> Preethi)</td></tr><tr><td>Rajesh</td><td>null</td></tr></tbody></table></div>"
      ]
     },
     "metadata": {
      "application/vnd.databricks.v1+output": {
       "addedWidgets": {},
       "aggData": [],
       "aggError": "",
       "aggOverflow": false,
       "aggSchema": [],
       "aggSeriesLimitReached": false,
       "aggType": "",
       "arguments": {},
       "columnCustomDisplayInfos": {},
       "data": [
        [
         "Raja",
         {
          "AC": "Voltas",
          "Oven": "Philips",
          "Refregirent": "Samsung",
          "TV": "LG"
         }
        ],
        [
         "Raghu",
         {
          "AC": "Sansung",
          "Washing machine": "LG"
         }
        ],
        [
         "Ramesh",
         {
          "GRinder": "Preethi",
          "TV": ""
         }
        ],
        [
         "Rajesh",
         null
        ]
       ],
       "datasetInfos": [],
       "dbfsResultPath": null,
       "isJsonSchema": true,
       "metadata": {},
       "overflow": false,
       "plotOptions": {
        "customPlotOptions": {},
        "displayType": "table",
        "pivotAggregation": null,
        "pivotColumns": null,
        "xColumns": null,
        "yColumns": null
       },
       "removedWidgets": [],
       "schema": [
        {
         "metadata": "{}",
         "name": "name",
         "type": "\"string\""
        },
        {
         "metadata": "{}",
         "name": "Brand",
         "type": "{\"type\":\"map\",\"keyType\":\"string\",\"valueType\":\"string\",\"valueContainsNull\":true}"
        }
       ],
       "type": "table"
      }
     },
     "output_type": "display_data"
    },
    {
     "output_type": "stream",
     "name": "stdout",
     "output_type": "stream",
     "text": [
      "root\n |-- name: string (nullable = true)\n |-- key: string (nullable = true)\n |-- value: string (nullable = true)\n\n"
     ]
    },
    {
     "output_type": "display_data",
     "data": {
      "text/html": [
       "<style scoped>\n",
       "  .table-result-container {\n",
       "    max-height: 300px;\n",
       "    overflow: auto;\n",
       "  }\n",
       "  table, th, td {\n",
       "    border: 1px solid black;\n",
       "    border-collapse: collapse;\n",
       "  }\n",
       "  th, td {\n",
       "    padding: 5px;\n",
       "  }\n",
       "  th {\n",
       "    text-align: left;\n",
       "  }\n",
       "</style><div class='table-result-container'><table class='table-result'><thead style='background-color: white'><tr><th>name</th><th>key</th><th>value</th></tr></thead><tbody><tr><td>Raja</td><td>AC</td><td>Voltas</td></tr><tr><td>Raja</td><td>TV</td><td>LG</td></tr><tr><td>Raja</td><td>Refregirent</td><td>Samsung</td></tr><tr><td>Raja</td><td>Oven</td><td>Philips</td></tr><tr><td>Raghu</td><td>AC</td><td>Sansung</td></tr><tr><td>Raghu</td><td>Washing machine</td><td>LG</td></tr><tr><td>Ramesh</td><td>TV</td><td></td></tr><tr><td>Ramesh</td><td>GRinder</td><td>Preethi</td></tr><tr><td>Rajesh</td><td>null</td><td>null</td></tr></tbody></table></div>"
      ]
     },
     "metadata": {
      "application/vnd.databricks.v1+output": {
       "addedWidgets": {},
       "aggData": [],
       "aggError": "",
       "aggOverflow": false,
       "aggSchema": [],
       "aggSeriesLimitReached": false,
       "aggType": "",
       "arguments": {},
       "columnCustomDisplayInfos": {},
       "data": [
        [
         "Raja",
         "AC",
         "Voltas"
        ],
        [
         "Raja",
         "TV",
         "LG"
        ],
        [
         "Raja",
         "Refregirent",
         "Samsung"
        ],
        [
         "Raja",
         "Oven",
         "Philips"
        ],
        [
         "Raghu",
         "AC",
         "Sansung"
        ],
        [
         "Raghu",
         "Washing machine",
         "LG"
        ],
        [
         "Ramesh",
         "TV",
         ""
        ],
        [
         "Ramesh",
         "GRinder",
         "Preethi"
        ],
        [
         "Rajesh",
         null,
         null
        ]
       ],
       "datasetInfos": [],
       "dbfsResultPath": null,
       "isJsonSchema": true,
       "metadata": {},
       "overflow": false,
       "plotOptions": {
        "customPlotOptions": {},
        "displayType": "table",
        "pivotAggregation": null,
        "pivotColumns": null,
        "xColumns": null,
        "yColumns": null
       },
       "removedWidgets": [],
       "schema": [
        {
         "metadata": "{}",
         "name": "name",
         "type": "\"string\""
        },
        {
         "metadata": "{}",
         "name": "key",
         "type": "\"string\""
        },
        {
         "metadata": "{}",
         "name": "value",
         "type": "\"string\""
        }
       ],
       "type": "table"
      }
     },
     "output_type": "display_data"
    }
   ],
   "source": [
    "df3=df_brand.select(df_brand.name,explode_outer(df_brand.Brand))\n",
    "df_brand.printSchema()\n",
    "display(df_brand)\n",
    "df3.printSchema()\n",
    "display(df3)"
   ]
  },
  {
   "cell_type": "markdown",
   "metadata": {
    "application/vnd.databricks.v1+cell": {
     "cellMetadata": {},
     "inputWidgets": {},
     "nuid": "3b5f821a-d9b7-43d9-a0b6-9283f5ca9bac",
     "showTitle": false,
     "title": ""
    }
   },
   "source": [
    "## Positional Explode\n"
   ]
  },
  {
   "cell_type": "code",
   "execution_count": 0,
   "metadata": {
    "application/vnd.databricks.v1+cell": {
     "cellMetadata": {
      "byteLimit": 2048000,
      "rowLimit": 10000
     },
     "inputWidgets": {},
     "nuid": "3c0cd634-5ff4-4d8c-b83e-4b8813eb4d37",
     "showTitle": false,
     "title": ""
    }
   },
   "outputs": [
    {
     "output_type": "display_data",
     "data": {
      "text/html": [
       "<style scoped>\n",
       "  .table-result-container {\n",
       "    max-height: 300px;\n",
       "    overflow: auto;\n",
       "  }\n",
       "  table, th, td {\n",
       "    border: 1px solid black;\n",
       "    border-collapse: collapse;\n",
       "  }\n",
       "  th, td {\n",
       "    padding: 5px;\n",
       "  }\n",
       "  th {\n",
       "    text-align: left;\n",
       "  }\n",
       "</style><div class='table-result-container'><table class='table-result'><thead style='background-color: white'><tr><th>name</th><th>pos</th><th>col</th></tr></thead><tbody><tr><td>Raja</td><td>0</td><td>TV</td></tr><tr><td>Raja</td><td>1</td><td>Refregirent</td></tr><tr><td>Raja</td><td>2</td><td>Oven</td></tr><tr><td>Raja</td><td>3</td><td>AC</td></tr><tr><td>Raghu</td><td>0</td><td>AC</td></tr><tr><td>Raghu</td><td>1</td><td>Washing machine</td></tr><tr><td>Raghu</td><td>2</td><td>null</td></tr><tr><td>Ramesh</td><td>0</td><td>GRinder</td></tr><tr><td>Ramesh</td><td>1</td><td>TV</td></tr><tr><td>Ramesh</td><td>2</td><td>null</td></tr></tbody></table></div>"
      ]
     },
     "metadata": {
      "application/vnd.databricks.v1+output": {
       "addedWidgets": {},
       "aggData": [],
       "aggError": "",
       "aggOverflow": false,
       "aggSchema": [],
       "aggSeriesLimitReached": false,
       "aggType": "",
       "arguments": {},
       "columnCustomDisplayInfos": {},
       "data": [
        [
         "Raja",
         0,
         "TV"
        ],
        [
         "Raja",
         1,
         "Refregirent"
        ],
        [
         "Raja",
         2,
         "Oven"
        ],
        [
         "Raja",
         3,
         "AC"
        ],
        [
         "Raghu",
         0,
         "AC"
        ],
        [
         "Raghu",
         1,
         "Washing machine"
        ],
        [
         "Raghu",
         2,
         null
        ],
        [
         "Ramesh",
         0,
         "GRinder"
        ],
        [
         "Ramesh",
         1,
         "TV"
        ],
        [
         "Ramesh",
         2,
         null
        ]
       ],
       "datasetInfos": [],
       "dbfsResultPath": null,
       "isJsonSchema": true,
       "metadata": {},
       "overflow": false,
       "plotOptions": {
        "customPlotOptions": {},
        "displayType": "table",
        "pivotAggregation": null,
        "pivotColumns": null,
        "xColumns": null,
        "yColumns": null
       },
       "removedWidgets": [],
       "schema": [
        {
         "metadata": "{}",
         "name": "name",
         "type": "\"string\""
        },
        {
         "metadata": "{}",
         "name": "pos",
         "type": "\"integer\""
        },
        {
         "metadata": "{}",
         "name": "col",
         "type": "\"string\""
        }
       ],
       "type": "table"
      }
     },
     "output_type": "display_data"
    },
    {
     "output_type": "display_data",
     "data": {
      "text/html": [
       "<style scoped>\n",
       "  .table-result-container {\n",
       "    max-height: 300px;\n",
       "    overflow: auto;\n",
       "  }\n",
       "  table, th, td {\n",
       "    border: 1px solid black;\n",
       "    border-collapse: collapse;\n",
       "  }\n",
       "  th, td {\n",
       "    padding: 5px;\n",
       "  }\n",
       "  th {\n",
       "    text-align: left;\n",
       "  }\n",
       "</style><div class='table-result-container'><table class='table-result'><thead style='background-color: white'><tr><th>name</th><th>pos</th><th>key</th><th>value</th></tr></thead><tbody><tr><td>Raja</td><td>0</td><td>AC</td><td>Voltas</td></tr><tr><td>Raja</td><td>1</td><td>TV</td><td>LG</td></tr><tr><td>Raja</td><td>2</td><td>Refregirent</td><td>Samsung</td></tr><tr><td>Raja</td><td>3</td><td>Oven</td><td>Philips</td></tr><tr><td>Raghu</td><td>0</td><td>AC</td><td>Sansung</td></tr><tr><td>Raghu</td><td>1</td><td>Washing machine</td><td>LG</td></tr><tr><td>Ramesh</td><td>0</td><td>TV</td><td></td></tr><tr><td>Ramesh</td><td>1</td><td>GRinder</td><td>Preethi</td></tr></tbody></table></div>"
      ]
     },
     "metadata": {
      "application/vnd.databricks.v1+output": {
       "addedWidgets": {},
       "aggData": [],
       "aggError": "",
       "aggOverflow": false,
       "aggSchema": [],
       "aggSeriesLimitReached": false,
       "aggType": "",
       "arguments": {},
       "columnCustomDisplayInfos": {},
       "data": [
        [
         "Raja",
         0,
         "AC",
         "Voltas"
        ],
        [
         "Raja",
         1,
         "TV",
         "LG"
        ],
        [
         "Raja",
         2,
         "Refregirent",
         "Samsung"
        ],
        [
         "Raja",
         3,
         "Oven",
         "Philips"
        ],
        [
         "Raghu",
         0,
         "AC",
         "Sansung"
        ],
        [
         "Raghu",
         1,
         "Washing machine",
         "LG"
        ],
        [
         "Ramesh",
         0,
         "TV",
         ""
        ],
        [
         "Ramesh",
         1,
         "GRinder",
         "Preethi"
        ]
       ],
       "datasetInfos": [],
       "dbfsResultPath": null,
       "isJsonSchema": true,
       "metadata": {},
       "overflow": false,
       "plotOptions": {
        "customPlotOptions": {},
        "displayType": "table",
        "pivotAggregation": null,
        "pivotColumns": null,
        "xColumns": null,
        "yColumns": null
       },
       "removedWidgets": [],
       "schema": [
        {
         "metadata": "{}",
         "name": "name",
         "type": "\"string\""
        },
        {
         "metadata": "{}",
         "name": "pos",
         "type": "\"integer\""
        },
        {
         "metadata": "{}",
         "name": "key",
         "type": "\"string\""
        },
        {
         "metadata": "{}",
         "name": "value",
         "type": "\"string\""
        }
       ],
       "type": "table"
      }
     },
     "output_type": "display_data"
    }
   ],
   "source": [
    "from pyspark.sql.functions import posexplode\n",
    "display(df_app.select(df_app.name,posexplode(df_app.Applications)))\n",
    "display(df_brand.select(df_brand.name,posexplode(df_brand.Brand)))"
   ]
  },
  {
   "cell_type": "markdown",
   "metadata": {
    "application/vnd.databricks.v1+cell": {
     "cellMetadata": {},
     "inputWidgets": {},
     "nuid": "bdc09d6c-4fd0-41e1-b510-a00c5cfda630",
     "showTitle": false,
     "title": ""
    }
   },
   "source": [
    "## posexplode_outer"
   ]
  },
  {
   "cell_type": "code",
   "execution_count": 0,
   "metadata": {
    "application/vnd.databricks.v1+cell": {
     "cellMetadata": {
      "byteLimit": 2048000,
      "rowLimit": 10000
     },
     "inputWidgets": {},
     "nuid": "ebe6a9d1-1166-4cf3-8757-ecc0d7fd95e3",
     "showTitle": false,
     "title": ""
    }
   },
   "outputs": [
    {
     "output_type": "display_data",
     "data": {
      "text/html": [
       "<style scoped>\n",
       "  .table-result-container {\n",
       "    max-height: 300px;\n",
       "    overflow: auto;\n",
       "  }\n",
       "  table, th, td {\n",
       "    border: 1px solid black;\n",
       "    border-collapse: collapse;\n",
       "  }\n",
       "  th, td {\n",
       "    padding: 5px;\n",
       "  }\n",
       "  th {\n",
       "    text-align: left;\n",
       "  }\n",
       "</style><div class='table-result-container'><table class='table-result'><thead style='background-color: white'><tr><th>name</th><th>pos</th><th>col</th></tr></thead><tbody><tr><td>Raja</td><td>0</td><td>TV</td></tr><tr><td>Raja</td><td>1</td><td>Refregirent</td></tr><tr><td>Raja</td><td>2</td><td>Oven</td></tr><tr><td>Raja</td><td>3</td><td>AC</td></tr><tr><td>Raghu</td><td>0</td><td>AC</td></tr><tr><td>Raghu</td><td>1</td><td>Washing machine</td></tr><tr><td>Raghu</td><td>2</td><td>null</td></tr><tr><td>Ramesh</td><td>0</td><td>GRinder</td></tr><tr><td>Ramesh</td><td>1</td><td>TV</td></tr><tr><td>Ramesh</td><td>2</td><td>null</td></tr><tr><td>Rajesh</td><td>null</td><td>null</td></tr></tbody></table></div>"
      ]
     },
     "metadata": {
      "application/vnd.databricks.v1+output": {
       "addedWidgets": {},
       "aggData": [],
       "aggError": "",
       "aggOverflow": false,
       "aggSchema": [],
       "aggSeriesLimitReached": false,
       "aggType": "",
       "arguments": {},
       "columnCustomDisplayInfos": {},
       "data": [
        [
         "Raja",
         0,
         "TV"
        ],
        [
         "Raja",
         1,
         "Refregirent"
        ],
        [
         "Raja",
         2,
         "Oven"
        ],
        [
         "Raja",
         3,
         "AC"
        ],
        [
         "Raghu",
         0,
         "AC"
        ],
        [
         "Raghu",
         1,
         "Washing machine"
        ],
        [
         "Raghu",
         2,
         null
        ],
        [
         "Ramesh",
         0,
         "GRinder"
        ],
        [
         "Ramesh",
         1,
         "TV"
        ],
        [
         "Ramesh",
         2,
         null
        ],
        [
         "Rajesh",
         null,
         null
        ]
       ],
       "datasetInfos": [],
       "dbfsResultPath": null,
       "isJsonSchema": true,
       "metadata": {},
       "overflow": false,
       "plotOptions": {
        "customPlotOptions": {},
        "displayType": "table",
        "pivotAggregation": null,
        "pivotColumns": null,
        "xColumns": null,
        "yColumns": null
       },
       "removedWidgets": [],
       "schema": [
        {
         "metadata": "{}",
         "name": "name",
         "type": "\"string\""
        },
        {
         "metadata": "{}",
         "name": "pos",
         "type": "\"integer\""
        },
        {
         "metadata": "{}",
         "name": "col",
         "type": "\"string\""
        }
       ],
       "type": "table"
      }
     },
     "output_type": "display_data"
    },
    {
     "output_type": "display_data",
     "data": {
      "text/html": [
       "<style scoped>\n",
       "  .table-result-container {\n",
       "    max-height: 300px;\n",
       "    overflow: auto;\n",
       "  }\n",
       "  table, th, td {\n",
       "    border: 1px solid black;\n",
       "    border-collapse: collapse;\n",
       "  }\n",
       "  th, td {\n",
       "    padding: 5px;\n",
       "  }\n",
       "  th {\n",
       "    text-align: left;\n",
       "  }\n",
       "</style><div class='table-result-container'><table class='table-result'><thead style='background-color: white'><tr><th>name</th><th>pos</th><th>key</th><th>value</th></tr></thead><tbody><tr><td>Raja</td><td>0</td><td>AC</td><td>Voltas</td></tr><tr><td>Raja</td><td>1</td><td>TV</td><td>LG</td></tr><tr><td>Raja</td><td>2</td><td>Refregirent</td><td>Samsung</td></tr><tr><td>Raja</td><td>3</td><td>Oven</td><td>Philips</td></tr><tr><td>Raghu</td><td>0</td><td>AC</td><td>Sansung</td></tr><tr><td>Raghu</td><td>1</td><td>Washing machine</td><td>LG</td></tr><tr><td>Ramesh</td><td>0</td><td>TV</td><td></td></tr><tr><td>Ramesh</td><td>1</td><td>GRinder</td><td>Preethi</td></tr><tr><td>Rajesh</td><td>null</td><td>null</td><td>null</td></tr></tbody></table></div>"
      ]
     },
     "metadata": {
      "application/vnd.databricks.v1+output": {
       "addedWidgets": {},
       "aggData": [],
       "aggError": "",
       "aggOverflow": false,
       "aggSchema": [],
       "aggSeriesLimitReached": false,
       "aggType": "",
       "arguments": {},
       "columnCustomDisplayInfos": {},
       "data": [
        [
         "Raja",
         0,
         "AC",
         "Voltas"
        ],
        [
         "Raja",
         1,
         "TV",
         "LG"
        ],
        [
         "Raja",
         2,
         "Refregirent",
         "Samsung"
        ],
        [
         "Raja",
         3,
         "Oven",
         "Philips"
        ],
        [
         "Raghu",
         0,
         "AC",
         "Sansung"
        ],
        [
         "Raghu",
         1,
         "Washing machine",
         "LG"
        ],
        [
         "Ramesh",
         0,
         "TV",
         ""
        ],
        [
         "Ramesh",
         1,
         "GRinder",
         "Preethi"
        ],
        [
         "Rajesh",
         null,
         null,
         null
        ]
       ],
       "datasetInfos": [],
       "dbfsResultPath": null,
       "isJsonSchema": true,
       "metadata": {},
       "overflow": false,
       "plotOptions": {
        "customPlotOptions": {},
        "displayType": "table",
        "pivotAggregation": null,
        "pivotColumns": null,
        "xColumns": null,
        "yColumns": null
       },
       "removedWidgets": [],
       "schema": [
        {
         "metadata": "{}",
         "name": "name",
         "type": "\"string\""
        },
        {
         "metadata": "{}",
         "name": "pos",
         "type": "\"integer\""
        },
        {
         "metadata": "{}",
         "name": "key",
         "type": "\"string\""
        },
        {
         "metadata": "{}",
         "name": "value",
         "type": "\"string\""
        }
       ],
       "type": "table"
      }
     },
     "output_type": "display_data"
    }
   ],
   "source": [
    "from pyspark.sql.functions import posexplode_outer\n",
    "display(df_app.select(df_app.name,posexplode_outer(df_app.Applications)))\n",
    "display(df_brand.select(df_brand.name,posexplode_outer(df_brand.Brand)))"
   ]
  },
  {
   "cell_type": "markdown",
   "metadata": {
    "application/vnd.databricks.v1+cell": {
     "cellMetadata": {},
     "inputWidgets": {},
     "nuid": "e84fa191-46d9-4a48-a279-7506bb4545b7",
     "showTitle": false,
     "title": ""
    }
   },
   "source": [
    "## create Sample Dataframe"
   ]
  },
  {
   "cell_type": "code",
   "execution_count": 0,
   "metadata": {
    "application/vnd.databricks.v1+cell": {
     "cellMetadata": {
      "byteLimit": 2048000,
      "rowLimit": 10000
     },
     "inputWidgets": {},
     "nuid": "59a4c803-6d43-47b6-a58d-0a2f2666eb61",
     "showTitle": false,
     "title": ""
    }
   },
   "outputs": [
    {
     "output_type": "display_data",
     "data": {
      "text/html": [
       "<style scoped>\n",
       "  .table-result-container {\n",
       "    max-height: 300px;\n",
       "    overflow: auto;\n",
       "  }\n",
       "  table, th, td {\n",
       "    border: 1px solid black;\n",
       "    border-collapse: collapse;\n",
       "  }\n",
       "  th, td {\n",
       "    padding: 5px;\n",
       "  }\n",
       "  th {\n",
       "    text-align: left;\n",
       "  }\n",
       "</style><div class='table-result-container'><table class='table-result'><thead style='background-color: white'><tr><th>key</th><th>value</th></tr></thead><tbody><tr><td>ABC</td><td>List(1, 2, 3)</td></tr><tr><td>XYZ</td><td>List(2, null, 4)</td></tr><tr><td>KLM</td><td>List(8, 7)</td></tr><tr><td>IJK</td><td>List(5)</td></tr></tbody></table></div>"
      ]
     },
     "metadata": {
      "application/vnd.databricks.v1+output": {
       "addedWidgets": {},
       "aggData": [],
       "aggError": "",
       "aggOverflow": false,
       "aggSchema": [],
       "aggSeriesLimitReached": false,
       "aggType": "",
       "arguments": {},
       "columnCustomDisplayInfos": {},
       "data": [
        [
         "ABC",
         [
          1,
          2,
          3
         ]
        ],
        [
         "XYZ",
         [
          2,
          null,
          4
         ]
        ],
        [
         "KLM",
         [
          8,
          7
         ]
        ],
        [
         "IJK",
         [
          5
         ]
        ]
       ],
       "datasetInfos": [],
       "dbfsResultPath": null,
       "isJsonSchema": true,
       "metadata": {},
       "overflow": false,
       "plotOptions": {
        "customPlotOptions": {},
        "displayType": "table",
        "pivotAggregation": null,
        "pivotColumns": null,
        "xColumns": null,
        "yColumns": null
       },
       "removedWidgets": [],
       "schema": [
        {
         "metadata": "{}",
         "name": "key",
         "type": "\"string\""
        },
        {
         "metadata": "{}",
         "name": "value",
         "type": "{\"type\":\"array\",\"elementType\":\"long\",\"containsNull\":true}"
        }
       ],
       "type": "table"
      }
     },
     "output_type": "display_data"
    }
   ],
   "source": [
    "df=spark.createDataFrame(sc.parallelize([['ABC',[1,2,3]],['XYZ',[2,None,4]],['KLM',[8,7]],['IJK',[5]]]),['key','value'])\n",
    "df.display()"
   ]
  },
  {
   "cell_type": "markdown",
   "metadata": {
    "application/vnd.databricks.v1+cell": {
     "cellMetadata": {},
     "inputWidgets": {},
     "nuid": "a571c278-f5bf-4bc0-9373-1c7d2d80e2c9",
     "showTitle": false,
     "title": ""
    }
   },
   "source": [
    "Split Array Values Into Separate Columns"
   ]
  },
  {
   "cell_type": "code",
   "execution_count": 0,
   "metadata": {
    "application/vnd.databricks.v1+cell": {
     "cellMetadata": {
      "byteLimit": 2048000,
      "rowLimit": 10000
     },
     "inputWidgets": {},
     "nuid": "fa7d1a7d-6cc3-4ed0-b13a-f4d6fcfc9082",
     "showTitle": false,
     "title": ""
    }
   },
   "outputs": [
    {
     "output_type": "display_data",
     "data": {
      "text/html": [
       "<style scoped>\n",
       "  .table-result-container {\n",
       "    max-height: 300px;\n",
       "    overflow: auto;\n",
       "  }\n",
       "  table, th, td {\n",
       "    border: 1px solid black;\n",
       "    border-collapse: collapse;\n",
       "  }\n",
       "  th, td {\n",
       "    padding: 5px;\n",
       "  }\n",
       "  th {\n",
       "    text-align: left;\n",
       "  }\n",
       "</style><div class='table-result-container'><table class='table-result'><thead style='background-color: white'><tr><th>key</th><th>value[0]</th><th>value[1]</th><th>value[2]</th></tr></thead><tbody><tr><td>ABC</td><td>1</td><td>2</td><td>3</td></tr><tr><td>XYZ</td><td>2</td><td>null</td><td>4</td></tr><tr><td>KLM</td><td>8</td><td>7</td><td>null</td></tr><tr><td>IJK</td><td>5</td><td>null</td><td>null</td></tr></tbody></table></div>"
      ]
     },
     "metadata": {
      "application/vnd.databricks.v1+output": {
       "addedWidgets": {},
       "aggData": [],
       "aggError": "",
       "aggOverflow": false,
       "aggSchema": [],
       "aggSeriesLimitReached": false,
       "aggType": "",
       "arguments": {},
       "columnCustomDisplayInfos": {},
       "data": [
        [
         "ABC",
         1,
         2,
         3
        ],
        [
         "XYZ",
         2,
         null,
         4
        ],
        [
         "KLM",
         8,
         7,
         null
        ],
        [
         "IJK",
         5,
         null,
         null
        ]
       ],
       "datasetInfos": [],
       "dbfsResultPath": null,
       "isJsonSchema": true,
       "metadata": {},
       "overflow": false,
       "plotOptions": {
        "customPlotOptions": {},
        "displayType": "table",
        "pivotAggregation": null,
        "pivotColumns": null,
        "xColumns": null,
        "yColumns": null
       },
       "removedWidgets": [],
       "schema": [
        {
         "metadata": "{}",
         "name": "key",
         "type": "\"string\""
        },
        {
         "metadata": "{}",
         "name": "value[0]",
         "type": "\"long\""
        },
        {
         "metadata": "{}",
         "name": "value[1]",
         "type": "\"long\""
        },
        {
         "metadata": "{}",
         "name": "value[2]",
         "type": "\"long\""
        }
       ],
       "type": "table"
      }
     },
     "output_type": "display_data"
    }
   ],
   "source": [
    "df.select(\"key\",df.value[0],df.value[1],df.value[2]).display()"
   ]
  },
  {
   "cell_type": "markdown",
   "metadata": {
    "application/vnd.databricks.v1+cell": {
     "cellMetadata": {},
     "inputWidgets": {},
     "nuid": "8c82f1a7-533f-4244-b3b1-6ff68cf51f1e",
     "showTitle": false,
     "title": ""
    }
   },
   "source": [
    "# HOW to Atomate this solution"
   ]
  },
  {
   "cell_type": "markdown",
   "metadata": {
    "application/vnd.databricks.v1+cell": {
     "cellMetadata": {},
     "inputWidgets": {},
     "nuid": "89b22bc7-fa95-4bbe-b743-b91b90b9ac6d",
     "showTitle": false,
     "title": ""
    }
   },
   "source": [
    "Determine the size"
   ]
  },
  {
   "cell_type": "code",
   "execution_count": 0,
   "metadata": {
    "application/vnd.databricks.v1+cell": {
     "cellMetadata": {
      "byteLimit": 2048000,
      "rowLimit": 10000
     },
     "inputWidgets": {},
     "nuid": "d5c1aff6-a774-4566-8442-a651beaeffb0",
     "showTitle": false,
     "title": ""
    }
   },
   "outputs": [
    {
     "output_type": "display_data",
     "data": {
      "text/html": [
       "<style scoped>\n",
       "  .table-result-container {\n",
       "    max-height: 300px;\n",
       "    overflow: auto;\n",
       "  }\n",
       "  table, th, td {\n",
       "    border: 1px solid black;\n",
       "    border-collapse: collapse;\n",
       "  }\n",
       "  th, td {\n",
       "    padding: 5px;\n",
       "  }\n",
       "  th {\n",
       "    text-align: left;\n",
       "  }\n",
       "</style><div class='table-result-container'><table class='table-result'><thead style='background-color: white'><tr><th>key</th><th>value</th><th>NoOfArrayElements</th></tr></thead><tbody><tr><td>ABC</td><td>List(1, 2, 3)</td><td>3</td></tr><tr><td>XYZ</td><td>List(2, null, 4)</td><td>3</td></tr><tr><td>KLM</td><td>List(8, 7)</td><td>2</td></tr><tr><td>IJK</td><td>List(5)</td><td>1</td></tr></tbody></table></div>"
      ]
     },
     "metadata": {
      "application/vnd.databricks.v1+output": {
       "addedWidgets": {},
       "aggData": [],
       "aggError": "",
       "aggOverflow": false,
       "aggSchema": [],
       "aggSeriesLimitReached": false,
       "aggType": "",
       "arguments": {},
       "columnCustomDisplayInfos": {},
       "data": [
        [
         "ABC",
         [
          1,
          2,
          3
         ],
         3
        ],
        [
         "XYZ",
         [
          2,
          null,
          4
         ],
         3
        ],
        [
         "KLM",
         [
          8,
          7
         ],
         2
        ],
        [
         "IJK",
         [
          5
         ],
         1
        ]
       ],
       "datasetInfos": [],
       "dbfsResultPath": null,
       "isJsonSchema": true,
       "metadata": {},
       "overflow": false,
       "plotOptions": {
        "customPlotOptions": {},
        "displayType": "table",
        "pivotAggregation": null,
        "pivotColumns": null,
        "xColumns": null,
        "yColumns": null
       },
       "removedWidgets": [],
       "schema": [
        {
         "metadata": "{}",
         "name": "key",
         "type": "\"string\""
        },
        {
         "metadata": "{}",
         "name": "value",
         "type": "{\"type\":\"array\",\"elementType\":\"long\",\"containsNull\":true}"
        },
        {
         "metadata": "{}",
         "name": "NoOfArrayElements",
         "type": "\"integer\""
        }
       ],
       "type": "table"
      }
     },
     "output_type": "display_data"
    }
   ],
   "source": [
    "from pyspark.sql.functions import size,col\n",
    "dfSize=df.select(\"key\",\"value\",size(\"value\").alias(\"NoOfArrayElements\"))\n",
    "dfSize.display()"
   ]
  },
  {
   "cell_type": "markdown",
   "metadata": {
    "application/vnd.databricks.v1+cell": {
     "cellMetadata": {},
     "inputWidgets": {},
     "nuid": "873b0a37-d288-401d-aee3-12ca35cdc596",
     "showTitle": false,
     "title": ""
    }
   },
   "source": [
    "### Get the Maximum Size of the All Arrays"
   ]
  },
  {
   "cell_type": "code",
   "execution_count": 0,
   "metadata": {
    "application/vnd.databricks.v1+cell": {
     "cellMetadata": {
      "byteLimit": 2048000,
      "rowLimit": 10000
     },
     "inputWidgets": {},
     "nuid": "f0f05f5c-6e26-425c-b9a8-7099a7f03f63",
     "showTitle": false,
     "title": ""
    }
   },
   "outputs": [
    {
     "output_type": "stream",
     "name": "stdout",
     "output_type": "stream",
     "text": [
      "3\n"
     ]
    }
   ],
   "source": [
    "max_value=dfSize.agg({\"NoOfArrayElements\":\"max\"}).collect()[0][0]\n",
    "print(max_value)"
   ]
  },
  {
   "cell_type": "markdown",
   "metadata": {
    "application/vnd.databricks.v1+cell": {
     "cellMetadata": {},
     "inputWidgets": {},
     "nuid": "66ac877c-2453-4d5c-b163-ba2addd31ee1",
     "showTitle": false,
     "title": ""
    }
   },
   "source": [
    "UDF to Convert Array Elements into Columns"
   ]
  },
  {
   "cell_type": "code",
   "execution_count": 0,
   "metadata": {
    "application/vnd.databricks.v1+cell": {
     "cellMetadata": {
      "byteLimit": 2048000,
      "rowLimit": 10000
     },
     "inputWidgets": {},
     "nuid": "fb9099c4-b34a-4cc8-b4ee-4f1361c5121f",
     "showTitle": false,
     "title": ""
    }
   },
   "outputs": [],
   "source": [
    "def arraySplitInCols(df,maxElements):\n",
    "    for i in range(maxElements):\n",
    "        df=df.withColumn(f\"new_col_{i}\",df.value[i])\n",
    "    return df"
   ]
  },
  {
   "cell_type": "code",
   "execution_count": 0,
   "metadata": {
    "application/vnd.databricks.v1+cell": {
     "cellMetadata": {
      "byteLimit": 2048000,
      "rowLimit": 10000
     },
     "inputWidgets": {},
     "nuid": "0a201aee-9dc3-4188-b019-a8f0b41d29fa",
     "showTitle": false,
     "title": ""
    }
   },
   "outputs": [
    {
     "output_type": "display_data",
     "data": {
      "text/html": [
       "<style scoped>\n",
       "  .table-result-container {\n",
       "    max-height: 300px;\n",
       "    overflow: auto;\n",
       "  }\n",
       "  table, th, td {\n",
       "    border: 1px solid black;\n",
       "    border-collapse: collapse;\n",
       "  }\n",
       "  th, td {\n",
       "    padding: 5px;\n",
       "  }\n",
       "  th {\n",
       "    text-align: left;\n",
       "  }\n",
       "</style><div class='table-result-container'><table class='table-result'><thead style='background-color: white'><tr><th>key</th><th>value</th><th>new_col_0</th><th>new_col_1</th><th>new_col_2</th></tr></thead><tbody><tr><td>ABC</td><td>List(1, 2, 3)</td><td>1</td><td>2</td><td>3</td></tr><tr><td>XYZ</td><td>List(2, null, 4)</td><td>2</td><td>null</td><td>4</td></tr><tr><td>KLM</td><td>List(8, 7)</td><td>8</td><td>7</td><td>null</td></tr><tr><td>IJK</td><td>List(5)</td><td>5</td><td>null</td><td>null</td></tr></tbody></table></div>"
      ]
     },
     "metadata": {
      "application/vnd.databricks.v1+output": {
       "addedWidgets": {},
       "aggData": [],
       "aggError": "",
       "aggOverflow": false,
       "aggSchema": [],
       "aggSeriesLimitReached": false,
       "aggType": "",
       "arguments": {},
       "columnCustomDisplayInfos": {},
       "data": [
        [
         "ABC",
         [
          1,
          2,
          3
         ],
         1,
         2,
         3
        ],
        [
         "XYZ",
         [
          2,
          null,
          4
         ],
         2,
         null,
         4
        ],
        [
         "KLM",
         [
          8,
          7
         ],
         8,
         7,
         null
        ],
        [
         "IJK",
         [
          5
         ],
         5,
         null,
         null
        ]
       ],
       "datasetInfos": [],
       "dbfsResultPath": null,
       "isJsonSchema": true,
       "metadata": {},
       "overflow": false,
       "plotOptions": {
        "customPlotOptions": {},
        "displayType": "table",
        "pivotAggregation": null,
        "pivotColumns": null,
        "xColumns": null,
        "yColumns": null
       },
       "removedWidgets": [],
       "schema": [
        {
         "metadata": "{}",
         "name": "key",
         "type": "\"string\""
        },
        {
         "metadata": "{}",
         "name": "value",
         "type": "{\"type\":\"array\",\"elementType\":\"long\",\"containsNull\":true}"
        },
        {
         "metadata": "{}",
         "name": "new_col_0",
         "type": "\"long\""
        },
        {
         "metadata": "{}",
         "name": "new_col_1",
         "type": "\"long\""
        },
        {
         "metadata": "{}",
         "name": "new_col_2",
         "type": "\"long\""
        }
       ],
       "type": "table"
      }
     },
     "output_type": "display_data"
    }
   ],
   "source": [
    "dfout=arraySplitInCols(df,max_value)\n",
    "display(dfout)"
   ]
  },
  {
   "cell_type": "code",
   "execution_count": 0,
   "metadata": {
    "application/vnd.databricks.v1+cell": {
     "cellMetadata": {
      "byteLimit": 2048000,
      "rowLimit": 10000
     },
     "inputWidgets": {},
     "nuid": "ccb90dc0-01d2-49f1-8b4f-34e91ce1c51d",
     "showTitle": false,
     "title": ""
    }
   },
   "outputs": [
    {
     "output_type": "stream",
     "name": "stdout",
     "output_type": "stream",
     "text": [
      "root\n |-- name: string (nullable = true)\n |-- Brand: map (nullable = true)\n |    |-- key: string\n |    |-- value: string (valueContainsNull = true)\n |-- bolt: map (nullable = true)\n |    |-- key: string\n |    |-- value: string (valueContainsNull = true)\n\n"
     ]
    },
    {
     "output_type": "display_data",
     "data": {
      "text/html": [
       "<style scoped>\n",
       "  .table-result-container {\n",
       "    max-height: 300px;\n",
       "    overflow: auto;\n",
       "  }\n",
       "  table, th, td {\n",
       "    border: 1px solid black;\n",
       "    border-collapse: collapse;\n",
       "  }\n",
       "  th, td {\n",
       "    padding: 5px;\n",
       "  }\n",
       "  th {\n",
       "    text-align: left;\n",
       "  }\n",
       "</style><div class='table-result-container'><table class='table-result'><thead style='background-color: white'><tr><th>name</th><th>Brand</th><th>bolt</th></tr></thead><tbody><tr><td>Raja</td><td>Map(value -> 1, Currency -> IND)</td><td>Map(value -> 1, Currency -> I)</td></tr><tr><td>Raghu</td><td>Map(value -> 5, Currency -> BND)</td><td>Map(value -> 1, Currency -> I)</td></tr><tr><td>Ramesh</td><td>Map(value -> 10, Currency -> ID)</td><td>Map(value -> 5, Currency -> ND)</td></tr><tr><td>Rajesh</td><td>Map(value -> 1, Currency -> IN)</td><td>Map(value -> 1, Currency -> ID)</td></tr></tbody></table></div>"
      ]
     },
     "metadata": {
      "application/vnd.databricks.v1+output": {
       "addedWidgets": {},
       "aggData": [],
       "aggError": "",
       "aggOverflow": false,
       "aggSchema": [],
       "aggSeriesLimitReached": false,
       "aggType": "",
       "arguments": {},
       "columnCustomDisplayInfos": {},
       "data": [
        [
         "Raja",
         {
          "Currency": "IND",
          "value": "1"
         },
         {
          "Currency": "I",
          "value": "1"
         }
        ],
        [
         "Raghu",
         {
          "Currency": "BND",
          "value": "5"
         },
         {
          "Currency": "I",
          "value": "1"
         }
        ],
        [
         "Ramesh",
         {
          "Currency": "ID",
          "value": "10"
         },
         {
          "Currency": "ND",
          "value": "5"
         }
        ],
        [
         "Rajesh",
         {
          "Currency": "IN",
          "value": "1"
         },
         {
          "Currency": "ID",
          "value": "1"
         }
        ]
       ],
       "datasetInfos": [],
       "dbfsResultPath": null,
       "isJsonSchema": true,
       "metadata": {},
       "overflow": false,
       "plotOptions": {
        "customPlotOptions": {},
        "displayType": "table",
        "pivotAggregation": null,
        "pivotColumns": null,
        "xColumns": null,
        "yColumns": null
       },
       "removedWidgets": [],
       "schema": [
        {
         "metadata": "{}",
         "name": "name",
         "type": "\"string\""
        },
        {
         "metadata": "{}",
         "name": "Brand",
         "type": "{\"type\":\"map\",\"keyType\":\"string\",\"valueType\":\"string\",\"valueContainsNull\":true}"
        },
        {
         "metadata": "{}",
         "name": "bolt",
         "type": "{\"type\":\"map\",\"keyType\":\"string\",\"valueType\":\"string\",\"valueContainsNull\":true}"
        }
       ],
       "type": "table"
      }
     },
     "output_type": "display_data"
    }
   ],
   "source": [
    "map_brand=[\n",
    "    (\"Raja\",{\"Currency\":\"IND\",\"value\":1},{\"Currency\":\"I\",\"value\":1}),\n",
    "    (\"Raghu\",{\"Currency\":\"BND\",\"value\":5},{\"Currency\":\"I\",\"value\":1}),\n",
    "    (\"Ramesh\",{\"Currency\":\"ID\",\"value\":10},{\"Currency\":\"ND\",\"value\":5}),\n",
    "    (\"Rajesh\",{\"Currency\":\"IN\",\"value\":1},{\"Currency\":\"ID\",\"value\":1})\n",
    "]\n",
    "df=spark.createDataFrame(data=map_brand,schema=[\"name\",\"Brand\",\"bolt\"])\n",
    "df.printSchema()\n",
    "display(df)"
   ]
  },
  {
   "cell_type": "code",
   "execution_count": 0,
   "metadata": {
    "application/vnd.databricks.v1+cell": {
     "cellMetadata": {
      "byteLimit": 2048000,
      "rowLimit": 10000
     },
     "inputWidgets": {},
     "nuid": "16c86d51-d452-4ecf-b3a3-518cc784cadd",
     "showTitle": false,
     "title": ""
    }
   },
   "outputs": [],
   "source": [
    "from pyspark.sql.functions import expr"
   ]
  },
  {
   "cell_type": "code",
   "execution_count": 0,
   "metadata": {
    "application/vnd.databricks.v1+cell": {
     "cellMetadata": {
      "byteLimit": 2048000,
      "rowLimit": 10000
     },
     "inputWidgets": {},
     "nuid": "03db4165-83fd-43cc-b560-29c51125867b",
     "showTitle": false,
     "title": ""
    }
   },
   "outputs": [
    {
     "output_type": "display_data",
     "data": {
      "text/html": [
       "<style scoped>\n",
       "  .table-result-container {\n",
       "    max-height: 300px;\n",
       "    overflow: auto;\n",
       "  }\n",
       "  table, th, td {\n",
       "    border: 1px solid black;\n",
       "    border-collapse: collapse;\n",
       "  }\n",
       "  th, td {\n",
       "    padding: 5px;\n",
       "  }\n",
       "  th {\n",
       "    text-align: left;\n",
       "  }\n",
       "</style><div class='table-result-container'><table class='table-result'><thead style='background-color: white'><tr><th>name</th><th>Brand</th><th>bolt</th><th>Brand_currency</th><th>Brand_value</th><th>Bolt_currency</th><th>Bolt_value</th></tr></thead><tbody><tr><td>Raja</td><td>Map(value -> 1, Currency -> IND)</td><td>Map(value -> 1, Currency -> I)</td><td>IND</td><td>1</td><td>I</td><td>1</td></tr><tr><td>Raghu</td><td>Map(value -> 5, Currency -> BND)</td><td>Map(value -> 1, Currency -> I)</td><td>BND</td><td>5</td><td>I</td><td>1</td></tr><tr><td>Ramesh</td><td>Map(value -> 10, Currency -> ID)</td><td>Map(value -> 5, Currency -> ND)</td><td>ID</td><td>10</td><td>ND</td><td>5</td></tr><tr><td>Rajesh</td><td>Map(value -> 1, Currency -> IN)</td><td>Map(value -> 1, Currency -> ID)</td><td>IN</td><td>1</td><td>ID</td><td>1</td></tr></tbody></table></div>"
      ]
     },
     "metadata": {
      "application/vnd.databricks.v1+output": {
       "addedWidgets": {},
       "aggData": [],
       "aggError": "",
       "aggOverflow": false,
       "aggSchema": [],
       "aggSeriesLimitReached": false,
       "aggType": "",
       "arguments": {},
       "columnCustomDisplayInfos": {},
       "data": [
        [
         "Raja",
         {
          "Currency": "IND",
          "value": "1"
         },
         {
          "Currency": "I",
          "value": "1"
         },
         "IND",
         "1",
         "I",
         "1"
        ],
        [
         "Raghu",
         {
          "Currency": "BND",
          "value": "5"
         },
         {
          "Currency": "I",
          "value": "1"
         },
         "BND",
         "5",
         "I",
         "1"
        ],
        [
         "Ramesh",
         {
          "Currency": "ID",
          "value": "10"
         },
         {
          "Currency": "ND",
          "value": "5"
         },
         "ID",
         "10",
         "ND",
         "5"
        ],
        [
         "Rajesh",
         {
          "Currency": "IN",
          "value": "1"
         },
         {
          "Currency": "ID",
          "value": "1"
         },
         "IN",
         "1",
         "ID",
         "1"
        ]
       ],
       "datasetInfos": [],
       "dbfsResultPath": null,
       "isJsonSchema": true,
       "metadata": {},
       "overflow": false,
       "plotOptions": {
        "customPlotOptions": {},
        "displayType": "table",
        "pivotAggregation": null,
        "pivotColumns": null,
        "xColumns": null,
        "yColumns": null
       },
       "removedWidgets": [],
       "schema": [
        {
         "metadata": "{}",
         "name": "name",
         "type": "\"string\""
        },
        {
         "metadata": "{}",
         "name": "Brand",
         "type": "{\"type\":\"map\",\"keyType\":\"string\",\"valueType\":\"string\",\"valueContainsNull\":true}"
        },
        {
         "metadata": "{}",
         "name": "bolt",
         "type": "{\"type\":\"map\",\"keyType\":\"string\",\"valueType\":\"string\",\"valueContainsNull\":true}"
        },
        {
         "metadata": "{}",
         "name": "Brand_currency",
         "type": "\"string\""
        },
        {
         "metadata": "{}",
         "name": "Brand_value",
         "type": "\"string\""
        },
        {
         "metadata": "{}",
         "name": "Bolt_currency",
         "type": "\"string\""
        },
        {
         "metadata": "{}",
         "name": "Bolt_value",
         "type": "\"string\""
        }
       ],
       "type": "table"
      }
     },
     "output_type": "display_data"
    }
   ],
   "source": [
    "pivoted_df = df.withColumn(\"Brand_currency\", expr(\"Brand.Currency\")) \\\n",
    "    .withColumn(\"Brand_value\", expr(\"Brand.value\"))\\\n",
    "    .withColumn(\"Bolt_currency\", expr(\"bolt.Currency\"))\\\n",
    "    .withColumn(\"Bolt_value\", expr(\"bolt.value\"))\n",
    "pivoted_df.display()\n",
    "    "
   ]
  },
  {
   "cell_type": "code",
   "execution_count": 0,
   "metadata": {
    "application/vnd.databricks.v1+cell": {
     "cellMetadata": {},
     "inputWidgets": {},
     "nuid": "ae1ac766-48ee-45d8-b6ee-c3c24b406b5c",
     "showTitle": false,
     "title": ""
    }
   },
   "outputs": [],
   "source": [
    "map_brand=[\n",
    "    (\"Raja\",{\"TV\":\"LG\",\"Refregirent\":\"Samsung\",\"Oven\":\"Philips\",\"AC\":\"Voltas\"}),\n",
    "    (\"Raghu\",{\"AC\":\"Sansung\",\"Washing machine\":\"LG\"}),\n",
    "    (\"Ramesh\",{\"GRinder\":\"Preethi\",\"TV\":\"\"}),\n",
    "    (\"Rajesh\",None)\n",
    "]\n",
    "df_brand=spark.createDataFrame(data=map_brand,schema=[\"name\",\"Brand\"])\n",
    "df_brand.printSchema()\n",
    "display(df_brand)"
   ]
  }
 ],
 "metadata": {
  "application/vnd.databricks.v1+notebook": {
   "dashboards": [],
   "language": "python",
   "notebookMetadata": {
    "pythonIndentUnit": 4
   },
   "notebookName": "Explode_Functions",
   "widgets": {}
  }
 },
 "nbformat": 4,
 "nbformat_minor": 0
}
