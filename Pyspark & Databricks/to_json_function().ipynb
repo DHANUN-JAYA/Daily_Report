{
 "cells": [
  {
   "cell_type": "markdown",
   "metadata": {
    "application/vnd.databricks.v1+cell": {
     "cellMetadata": {},
     "inputWidgets": {},
     "nuid": "a92a6f68-4af1-461d-9671-0500e5c50b4a",
     "showTitle": false,
     "title": ""
    }
   },
   "source": [
    "to_json function"
   ]
  },
  {
   "cell_type": "code",
   "execution_count": 0,
   "metadata": {
    "application/vnd.databricks.v1+cell": {
     "cellMetadata": {
      "byteLimit": 2048000,
      "rowLimit": 10000
     },
     "inputWidgets": {},
     "nuid": "953c02c3-5b3d-42b1-9afc-7e62a179ad3b",
     "showTitle": false,
     "title": ""
    }
   },
   "outputs": [
    {
     "output_type": "stream",
     "name": "stdout",
     "output_type": "stream",
     "text": [
      "+------+-----------------------------+\n|name  |properties                   |\n+------+-----------------------------+\n|maheer|{eye -> brown, hair -> black}|\n+------+-----------------------------+\n\nroot\n |-- name: string (nullable = true)\n |-- properties: map (nullable = true)\n |    |-- key: string\n |    |-- value: string (valueContainsNull = true)\n\n+------+-----------------------------+------------------------------+\n|name  |properties                   |propString                    |\n+------+-----------------------------+------------------------------+\n|maheer|{eye -> brown, hair -> black}|{\"eye\":\"brown\",\"hair\":\"black\"}|\n+------+-----------------------------+------------------------------+\n\nroot\n |-- name: string (nullable = true)\n |-- properties: map (nullable = true)\n |    |-- key: string\n |    |-- value: string (valueContainsNull = true)\n |-- propString: string (nullable = true)\n\n"
     ]
    }
   ],
   "source": [
    "from pyspark.sql.types import StringType,StructType,StructField\n",
    "from pyspark.sql.functions import to_json\n",
    "data=[('maheer',{'hair':'black','eye':'brown'})]\n",
    "schema=['name','properties']\n",
    "df=spark.createDataFrame(data,schema)\n",
    "df.show(truncate=False)\n",
    "df.printSchema()\n",
    "\n",
    "df1=df.withColumn('propString',to_json(df.properties))\n",
    "df1.show(truncate=False)\n",
    "df1.printSchema()"
   ]
  },
  {
   "cell_type": "code",
   "execution_count": 0,
   "metadata": {
    "application/vnd.databricks.v1+cell": {
     "cellMetadata": {
      "byteLimit": 2048000,
      "rowLimit": 10000
     },
     "inputWidgets": {},
     "nuid": "679e2efc-e740-4b39-94c5-ad2c91c9554b",
     "showTitle": false,
     "title": ""
    }
   },
   "outputs": [
    {
     "output_type": "stream",
     "name": "stdout",
     "output_type": "stream",
     "text": [
      "+------+--------------+\n|  name|    properties|\n+------+--------------+\n|maheer|{black, brown}|\n+------+--------------+\n\nroot\n |-- name: string (nullable = true)\n |-- properties: struct (nullable = true)\n |    |-- hair: string (nullable = true)\n |    |-- eye: string (nullable = true)\n\n+------+--------------+------------------------------+\n|name  |properties    |PropJsonString                |\n+------+--------------+------------------------------+\n|maheer|{black, brown}|{\"hair\":\"black\",\"eye\":\"brown\"}|\n+------+--------------+------------------------------+\n\nroot\n |-- name: string (nullable = true)\n |-- properties: struct (nullable = true)\n |    |-- hair: string (nullable = true)\n |    |-- eye: string (nullable = true)\n |-- PropJsonString: string (nullable = true)\n\n"
     ]
    }
   ],
   "source": [
    "data=[('maheer',('black','brown'))]\n",
    "schema=StructType([\\\n",
    "    StructField('name',StringType()),\n",
    "    StructField('properties',StructType([StructField('hair',StringType()),StructField('eye',StringType())]))\n",
    "    ])\n",
    "df=spark.createDataFrame(data,schema)\n",
    "df.show()\n",
    "df.printSchema()\n",
    "df1=df.withColumn('PropJsonString',to_json(df.properties))\n",
    "df1.show(truncate=False)\n",
    "df1.printSchema()"
   ]
  },
  {
   "cell_type": "markdown",
   "metadata": {
    "application/vnd.databricks.v1+cell": {
     "cellMetadata": {},
     "inputWidgets": {},
     "nuid": "df9d2eb4-5519-4bcc-b560-d981b9a5ad03",
     "showTitle": false,
     "title": ""
    }
   },
   "source": [
    "from_json()"
   ]
  },
  {
   "cell_type": "code",
   "execution_count": 0,
   "metadata": {
    "application/vnd.databricks.v1+cell": {
     "cellMetadata": {
      "byteLimit": 2048000,
      "rowLimit": 10000
     },
     "inputWidgets": {},
     "nuid": "85e03ea9-2d66-42f8-84e3-f946c8cfa616",
     "showTitle": false,
     "title": ""
    }
   },
   "outputs": [
    {
     "output_type": "stream",
     "name": "stdout",
     "output_type": "stream",
     "text": [
      "+------+------------------------------+\n|id    |props                         |\n+------+------------------------------+\n|maheer|{\"hair\":\"black\",\"eye\":\"brown\"}|\n+------+------------------------------+\n\nroot\n |-- id: string (nullable = true)\n |-- props: string (nullable = true)\n\n"
     ]
    }
   ],
   "source": [
    "data=[('maheer','{\"hair\":\"black\",\"eye\":\"brown\"}')]\n",
    "schema=[\"id\",\"props\"]\n",
    "df=spark.createDataFrame(data,schema)\n",
    "df.show(truncate=False)\n",
    "df.printSchema()"
   ]
  },
  {
   "cell_type": "code",
   "execution_count": 0,
   "metadata": {
    "application/vnd.databricks.v1+cell": {
     "cellMetadata": {
      "byteLimit": 2048000,
      "rowLimit": 10000
     },
     "inputWidgets": {},
     "nuid": "9b9a3c94-80d8-413f-89e7-6ba2b4eaf36c",
     "showTitle": false,
     "title": ""
    }
   },
   "outputs": [
    {
     "output_type": "stream",
     "name": "stdout",
     "output_type": "stream",
     "text": [
      "+------+------------------------------+--------------+\n|id    |props                         |probsStruct   |\n+------+------------------------------+--------------+\n|maheer|{\"hair\":\"black\",\"eye\":\"brown\"}|{black, brown}|\n+------+------------------------------+--------------+\n\nroot\n |-- id: string (nullable = true)\n |-- props: string (nullable = true)\n |-- probsStruct: struct (nullable = true)\n |    |-- hair: string (nullable = true)\n |    |-- eye: string (nullable = true)\n\n"
     ]
    }
   ],
   "source": [
    "from pyspark.sql.functions import from_json\n",
    "from pyspark.sql.types import StructType,StructField,StringType\n",
    "structTypeSchema=StructType([\\\n",
    "                            StructField('hair',StringType()),\\\n",
    "                            StructField('eye',StringType())])\n",
    "\n",
    "df1=df.withColumn('probsStruct',from_json(df.props,structTypeSchema))\n",
    "df1.show(truncate=False)\n",
    "df1.printSchema()"
   ]
  },
  {
   "cell_type": "code",
   "execution_count": 0,
   "metadata": {
    "application/vnd.databricks.v1+cell": {
     "cellMetadata": {
      "byteLimit": 2048000,
      "rowLimit": 10000
     },
     "inputWidgets": {},
     "nuid": "bc2ccc48-b6dd-45af-b0cc-8b89bf7abc7e",
     "showTitle": false,
     "title": ""
    }
   },
   "outputs": [],
   "source": [
    "df2=df1.withColumn('hair',df1.probsStruct.hair)\\\n",
    "    .withColumn('eye',df1.probsStruct.eye)"
   ]
  },
  {
   "cell_type": "code",
   "execution_count": 0,
   "metadata": {
    "application/vnd.databricks.v1+cell": {
     "cellMetadata": {
      "byteLimit": 2048000,
      "rowLimit": 10000
     },
     "inputWidgets": {},
     "nuid": "bb87265c-2237-4d84-a845-36dd8e6ad7f6",
     "showTitle": false,
     "title": ""
    }
   },
   "outputs": [
    {
     "output_type": "display_data",
     "data": {
      "text/html": [
       "<style scoped>\n",
       "  .table-result-container {\n",
       "    max-height: 300px;\n",
       "    overflow: auto;\n",
       "  }\n",
       "  table, th, td {\n",
       "    border: 1px solid black;\n",
       "    border-collapse: collapse;\n",
       "  }\n",
       "  th, td {\n",
       "    padding: 5px;\n",
       "  }\n",
       "  th {\n",
       "    text-align: left;\n",
       "  }\n",
       "</style><div class='table-result-container'><table class='table-result'><thead style='background-color: white'><tr><th>id</th><th>props</th><th>probsStruct</th><th>hair</th><th>eye</th></tr></thead><tbody><tr><td>maheer</td><td>{\"hair\":\"black\",\"eye\":\"brown\"}</td><td>List(black, brown)</td><td>black</td><td>brown</td></tr></tbody></table></div>"
      ]
     },
     "metadata": {
      "application/vnd.databricks.v1+output": {
       "addedWidgets": {},
       "aggData": [],
       "aggError": "",
       "aggOverflow": false,
       "aggSchema": [],
       "aggSeriesLimitReached": false,
       "aggType": "",
       "arguments": {},
       "columnCustomDisplayInfos": {},
       "data": [
        [
         "maheer",
         "{\"hair\":\"black\",\"eye\":\"brown\"}",
         [
          "black",
          "brown"
         ],
         "black",
         "brown"
        ]
       ],
       "datasetInfos": [],
       "dbfsResultPath": null,
       "isJsonSchema": true,
       "metadata": {},
       "overflow": false,
       "plotOptions": {
        "customPlotOptions": {},
        "displayType": "table",
        "pivotAggregation": null,
        "pivotColumns": null,
        "xColumns": null,
        "yColumns": null
       },
       "removedWidgets": [],
       "schema": [
        {
         "metadata": "{}",
         "name": "id",
         "type": "\"string\""
        },
        {
         "metadata": "{}",
         "name": "props",
         "type": "\"string\""
        },
        {
         "metadata": "{}",
         "name": "probsStruct",
         "type": "{\"type\":\"struct\",\"fields\":[{\"name\":\"hair\",\"type\":\"string\",\"nullable\":true,\"metadata\":{}},{\"name\":\"eye\",\"type\":\"string\",\"nullable\":true,\"metadata\":{}}]}"
        },
        {
         "metadata": "{}",
         "name": "hair",
         "type": "\"string\""
        },
        {
         "metadata": "{}",
         "name": "eye",
         "type": "\"string\""
        }
       ],
       "type": "table"
      }
     },
     "output_type": "display_data"
    }
   ],
   "source": [
    "display(df2)"
   ]
  },
  {
   "cell_type": "markdown",
   "metadata": {
    "application/vnd.databricks.v1+cell": {
     "cellMetadata": {},
     "inputWidgets": {},
     "nuid": "3ba6f926-3956-4baf-8679-449a9c43c657",
     "showTitle": false,
     "title": ""
    }
   },
   "source": [
    "### get_json_object()\n",
    "* it's used to extract the json string based on path from json column"
   ]
  },
  {
   "cell_type": "code",
   "execution_count": 0,
   "metadata": {
    "application/vnd.databricks.v1+cell": {
     "cellMetadata": {
      "byteLimit": 2048000,
      "rowLimit": 10000
     },
     "inputWidgets": {},
     "nuid": "16db3342-c83a-47ef-99a8-cd539154b63f",
     "showTitle": false,
     "title": ""
    }
   },
   "outputs": [
    {
     "output_type": "stream",
     "name": "stdout",
     "output_type": "stream",
     "text": [
      "+------+-----------------------------------------------------------------+\n|name  |props                                                            |\n+------+-----------------------------------------------------------------+\n|maheer|{\"address\":{\"city\":\"hyd\",\"state\":\"telangana\"},\"gender\":\"male\"}   |\n|wafa  |{\"address\":{\"city\":\"bangalore\",\"state\":\"karnataka\"},\"eye\":\"blue\"}|\n+------+-----------------------------------------------------------------+\n\nroot\n |-- name: string (nullable = true)\n |-- props: string (nullable = true)\n\n"
     ]
    }
   ],
   "source": [
    "data=[('maheer','{\"address\":{\"city\":\"hyd\",\"state\":\"telangana\"},\"gender\":\"male\"}'),\\\n",
    "     ('wafa','{\"address\":{\"city\":\"bangalore\",\"state\":\"karnataka\"},\"eye\":\"blue\"}')\n",
    "       ]\n",
    "schema=['name','props']\n",
    "df=spark.createDataFrame(data,schema)\n",
    "df.show(truncate=False)\n",
    "df.printSchema()"
   ]
  },
  {
   "cell_type": "code",
   "execution_count": 0,
   "metadata": {
    "application/vnd.databricks.v1+cell": {
     "cellMetadata": {
      "byteLimit": 2048000,
      "rowLimit": 10000
     },
     "inputWidgets": {},
     "nuid": "82067d0b-d18a-4ed3-a6c5-39c632be6e9c",
     "showTitle": false,
     "title": ""
    }
   },
   "outputs": [
    {
     "output_type": "stream",
     "name": "stdout",
     "output_type": "stream",
     "text": [
      "+------+------+\n|  name|gender|\n+------+------+\n|maheer|  male|\n|  wafa|  null|\n+------+------+\n\n"
     ]
    }
   ],
   "source": [
    "from pyspark.sql.functions import get_json_object\n",
    "df1=df.select('name',get_json_object('props','$.gender').alias('gender'))\n",
    "df1.show()"
   ]
  },
  {
   "cell_type": "code",
   "execution_count": 0,
   "metadata": {
    "application/vnd.databricks.v1+cell": {
     "cellMetadata": {},
     "inputWidgets": {},
     "nuid": "432b0f43-fa82-4d51-a914-2b60333e5b36",
     "showTitle": false,
     "title": ""
    }
   },
   "outputs": [],
   "source": []
  }
 ],
 "metadata": {
  "application/vnd.databricks.v1+notebook": {
   "dashboards": [],
   "language": "python",
   "notebookMetadata": {
    "pythonIndentUnit": 4
   },
   "notebookName": "to_json_function()",
   "widgets": {}
  }
 },
 "nbformat": 4,
 "nbformat_minor": 0
}
