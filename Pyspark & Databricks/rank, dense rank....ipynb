{
 "cells": [
  {
   "cell_type": "code",
   "execution_count": 0,
   "metadata": {
    "application/vnd.databricks.v1+cell": {
     "cellMetadata": {
      "byteLimit": 2048000,
      "rowLimit": 10000
     },
     "inputWidgets": {},
     "nuid": "e88b512d-e78e-4738-880a-2776523cf628",
     "showTitle": false,
     "title": ""
    }
   },
   "outputs": [
    {
     "output_type": "display_data",
     "data": {
      "text/html": [
       "<style scoped>\n",
       "  .table-result-container {\n",
       "    max-height: 300px;\n",
       "    overflow: auto;\n",
       "  }\n",
       "  table, th, td {\n",
       "    border: 1px solid black;\n",
       "    border-collapse: collapse;\n",
       "  }\n",
       "  th, td {\n",
       "    padding: 5px;\n",
       "  }\n",
       "  th {\n",
       "    text-align: left;\n",
       "  }\n",
       "</style><div class='table-result-container'><table class='table-result'><thead style='background-color: white'><tr><th>number_courses</th><th>time_study</th><th>Marks</th></tr></thead><tbody><tr><td>3</td><td>4.508</td><td>19.202</td></tr><tr><td>4</td><td>0.096</td><td>7.734</td></tr><tr><td>4</td><td>3.133</td><td>13.811</td></tr><tr><td>6</td><td>7.909</td><td>53.018</td></tr><tr><td>8</td><td>7.811</td><td>55.299</td></tr><tr><td>6</td><td>3.211</td><td>17.822</td></tr><tr><td>3</td><td>6.063</td><td>29.889</td></tr><tr><td>5</td><td>3.413</td><td>17.264</td></tr><tr><td>4</td><td>4.41</td><td>20.348</td></tr><tr><td>3</td><td>6.173</td><td>30.862</td></tr><tr><td>3</td><td>7.353</td><td>42.036</td></tr><tr><td>7</td><td>0.423</td><td>12.132</td></tr><tr><td>7</td><td>4.218</td><td>24.318</td></tr><tr><td>3</td><td>4.274</td><td>17.672</td></tr><tr><td>3</td><td>2.908</td><td>11.397</td></tr><tr><td>4</td><td>4.26</td><td>19.466</td></tr><tr><td>5</td><td>5.719</td><td>30.548</td></tr><tr><td>8</td><td>6.08</td><td>38.49</td></tr><tr><td>6</td><td>7.711</td><td>50.986</td></tr><tr><td>8</td><td>3.977</td><td>25.133</td></tr><tr><td>4</td><td>4.733</td><td>22.073</td></tr><tr><td>6</td><td>6.126</td><td>35.939</td></tr><tr><td>5</td><td>2.051</td><td>12.209</td></tr><tr><td>7</td><td>4.875</td><td>28.043</td></tr><tr><td>4</td><td>3.635</td><td>16.517</td></tr><tr><td>3</td><td>1.407</td><td>6.623</td></tr><tr><td>7</td><td>0.508</td><td>12.647</td></tr><tr><td>8</td><td>4.378</td><td>26.532</td></tr><tr><td>5</td><td>0.156</td><td>9.333</td></tr><tr><td>4</td><td>1.299</td><td>8.837</td></tr><tr><td>8</td><td>3.864</td><td>24.172</td></tr><tr><td>3</td><td>1.923</td><td>8.1</td></tr><tr><td>8</td><td>0.932</td><td>15.038</td></tr><tr><td>6</td><td>6.594</td><td>39.965</td></tr><tr><td>3</td><td>4.083</td><td>17.171</td></tr><tr><td>3</td><td>7.543</td><td>43.978</td></tr><tr><td>4</td><td>2.966</td><td>13.119</td></tr><tr><td>6</td><td>7.283</td><td>46.453</td></tr><tr><td>7</td><td>6.533</td><td>41.358</td></tr><tr><td>6</td><td>7.775</td><td>51.142</td></tr><tr><td>4</td><td>0.14</td><td>7.336</td></tr><tr><td>6</td><td>2.754</td><td>15.725</td></tr><tr><td>6</td><td>3.591</td><td>19.771</td></tr><tr><td>5</td><td>1.557</td><td>10.429</td></tr><tr><td>4</td><td>1.954</td><td>9.742</td></tr><tr><td>3</td><td>2.061</td><td>8.924</td></tr><tr><td>4</td><td>3.797</td><td>16.703</td></tr><tr><td>4</td><td>4.779</td><td>22.701</td></tr><tr><td>3</td><td>5.635</td><td>26.882</td></tr><tr><td>5</td><td>3.913</td><td>19.106</td></tr><tr><td>6</td><td>6.703</td><td>40.602</td></tr><tr><td>6</td><td>4.13</td><td>22.184</td></tr><tr><td>4</td><td>0.771</td><td>7.892</td></tr><tr><td>7</td><td>6.049</td><td>36.653</td></tr><tr><td>8</td><td>7.591</td><td>53.158</td></tr><tr><td>7</td><td>2.913</td><td>18.238</td></tr><tr><td>8</td><td>7.641</td><td>53.359</td></tr><tr><td>7</td><td>7.649</td><td>51.583</td></tr><tr><td>3</td><td>6.198</td><td>31.236</td></tr><tr><td>8</td><td>7.468</td><td>51.343</td></tr><tr><td>6</td><td>0.376</td><td>10.522</td></tr><tr><td>4</td><td>2.438</td><td>10.844</td></tr><tr><td>6</td><td>3.606</td><td>19.59</td></tr><tr><td>3</td><td>4.869</td><td>21.379</td></tr><tr><td>7</td><td>0.13</td><td>12.591</td></tr><tr><td>6</td><td>2.142</td><td>13.562</td></tr><tr><td>4</td><td>5.473</td><td>27.569</td></tr><tr><td>3</td><td>0.55</td><td>6.185</td></tr><tr><td>4</td><td>1.395</td><td>8.92</td></tr><tr><td>6</td><td>3.948</td><td>21.4</td></tr><tr><td>4</td><td>3.736</td><td>16.606</td></tr><tr><td>5</td><td>2.518</td><td>13.416</td></tr><tr><td>3</td><td>4.633</td><td>20.398</td></tr><tr><td>3</td><td>1.629</td><td>7.014</td></tr><tr><td>4</td><td>6.954</td><td>39.952</td></tr><tr><td>3</td><td>0.803</td><td>6.217</td></tr><tr><td>5</td><td>6.379</td><td>36.746</td></tr><tr><td>8</td><td>5.985</td><td>38.278</td></tr><tr><td>7</td><td>7.451</td><td>49.544</td></tr><tr><td>3</td><td>0.805</td><td>6.349</td></tr><tr><td>7</td><td>7.957</td><td>54.321</td></tr><tr><td>8</td><td>2.262</td><td>17.705</td></tr><tr><td>4</td><td>7.41</td><td>44.099</td></tr><tr><td>5</td><td>3.197</td><td>16.106</td></tr><tr><td>8</td><td>1.982</td><td>16.461</td></tr><tr><td>8</td><td>6.201</td><td>39.957</td></tr><tr><td>7</td><td>4.067</td><td>23.149</td></tr><tr><td>3</td><td>1.033</td><td>6.053</td></tr><tr><td>5</td><td>1.803</td><td>11.253</td></tr><tr><td>7</td><td>6.376</td><td>40.024</td></tr><tr><td>7</td><td>4.182</td><td>24.394</td></tr><tr><td>8</td><td>2.73</td><td>19.564</td></tr><tr><td>4</td><td>5.027</td><td>23.916</td></tr><tr><td>8</td><td>6.471</td><td>42.426</td></tr><tr><td>8</td><td>3.919</td><td>24.451</td></tr><tr><td>6</td><td>3.561</td><td>19.128</td></tr><tr><td>3</td><td>0.301</td><td>5.609</td></tr><tr><td>4</td><td>7.163</td><td>41.444</td></tr><tr><td>7</td><td>0.309</td><td>12.027</td></tr><tr><td>3</td><td>6.335</td><td>32.357</td></tr></tbody></table></div>"
      ]
     },
     "metadata": {
      "application/vnd.databricks.v1+output": {
       "addedWidgets": {},
       "aggData": [],
       "aggError": "",
       "aggOverflow": false,
       "aggSchema": [],
       "aggSeriesLimitReached": false,
       "aggType": "",
       "arguments": {},
       "columnCustomDisplayInfos": {},
       "data": [
        [
         3,
         4.508,
         19.202
        ],
        [
         4,
         0.096,
         7.734
        ],
        [
         4,
         3.133,
         13.811
        ],
        [
         6,
         7.909,
         53.018
        ],
        [
         8,
         7.811,
         55.299
        ],
        [
         6,
         3.211,
         17.822
        ],
        [
         3,
         6.063,
         29.889
        ],
        [
         5,
         3.413,
         17.264
        ],
        [
         4,
         4.41,
         20.348
        ],
        [
         3,
         6.173,
         30.862
        ],
        [
         3,
         7.353,
         42.036
        ],
        [
         7,
         0.423,
         12.132
        ],
        [
         7,
         4.218,
         24.318
        ],
        [
         3,
         4.274,
         17.672
        ],
        [
         3,
         2.908,
         11.397
        ],
        [
         4,
         4.26,
         19.466
        ],
        [
         5,
         5.719,
         30.548
        ],
        [
         8,
         6.08,
         38.49
        ],
        [
         6,
         7.711,
         50.986
        ],
        [
         8,
         3.977,
         25.133
        ],
        [
         4,
         4.733,
         22.073
        ],
        [
         6,
         6.126,
         35.939
        ],
        [
         5,
         2.051,
         12.209
        ],
        [
         7,
         4.875,
         28.043
        ],
        [
         4,
         3.635,
         16.517
        ],
        [
         3,
         1.407,
         6.623
        ],
        [
         7,
         0.508,
         12.647
        ],
        [
         8,
         4.378,
         26.532
        ],
        [
         5,
         0.156,
         9.333
        ],
        [
         4,
         1.299,
         8.837
        ],
        [
         8,
         3.864,
         24.172
        ],
        [
         3,
         1.923,
         8.1
        ],
        [
         8,
         0.932,
         15.038
        ],
        [
         6,
         6.594,
         39.965
        ],
        [
         3,
         4.083,
         17.171
        ],
        [
         3,
         7.543,
         43.978
        ],
        [
         4,
         2.966,
         13.119
        ],
        [
         6,
         7.283,
         46.453
        ],
        [
         7,
         6.533,
         41.358
        ],
        [
         6,
         7.775,
         51.142
        ],
        [
         4,
         0.14,
         7.336
        ],
        [
         6,
         2.754,
         15.725
        ],
        [
         6,
         3.591,
         19.771
        ],
        [
         5,
         1.557,
         10.429
        ],
        [
         4,
         1.954,
         9.742
        ],
        [
         3,
         2.061,
         8.924
        ],
        [
         4,
         3.797,
         16.703
        ],
        [
         4,
         4.779,
         22.701
        ],
        [
         3,
         5.635,
         26.882
        ],
        [
         5,
         3.913,
         19.106
        ],
        [
         6,
         6.703,
         40.602
        ],
        [
         6,
         4.13,
         22.184
        ],
        [
         4,
         0.771,
         7.892
        ],
        [
         7,
         6.049,
         36.653
        ],
        [
         8,
         7.591,
         53.158
        ],
        [
         7,
         2.913,
         18.238
        ],
        [
         8,
         7.641,
         53.359
        ],
        [
         7,
         7.649,
         51.583
        ],
        [
         3,
         6.198,
         31.236
        ],
        [
         8,
         7.468,
         51.343
        ],
        [
         6,
         0.376,
         10.522
        ],
        [
         4,
         2.438,
         10.844
        ],
        [
         6,
         3.606,
         19.59
        ],
        [
         3,
         4.869,
         21.379
        ],
        [
         7,
         0.13,
         12.591
        ],
        [
         6,
         2.142,
         13.562
        ],
        [
         4,
         5.473,
         27.569
        ],
        [
         3,
         0.55,
         6.185
        ],
        [
         4,
         1.395,
         8.92
        ],
        [
         6,
         3.948,
         21.4
        ],
        [
         4,
         3.736,
         16.606
        ],
        [
         5,
         2.518,
         13.416
        ],
        [
         3,
         4.633,
         20.398
        ],
        [
         3,
         1.629,
         7.014
        ],
        [
         4,
         6.954,
         39.952
        ],
        [
         3,
         0.803,
         6.217
        ],
        [
         5,
         6.379,
         36.746
        ],
        [
         8,
         5.985,
         38.278
        ],
        [
         7,
         7.451,
         49.544
        ],
        [
         3,
         0.805,
         6.349
        ],
        [
         7,
         7.957,
         54.321
        ],
        [
         8,
         2.262,
         17.705
        ],
        [
         4,
         7.41,
         44.099
        ],
        [
         5,
         3.197,
         16.106
        ],
        [
         8,
         1.982,
         16.461
        ],
        [
         8,
         6.201,
         39.957
        ],
        [
         7,
         4.067,
         23.149
        ],
        [
         3,
         1.033,
         6.053
        ],
        [
         5,
         1.803,
         11.253
        ],
        [
         7,
         6.376,
         40.024
        ],
        [
         7,
         4.182,
         24.394
        ],
        [
         8,
         2.73,
         19.564
        ],
        [
         4,
         5.027,
         23.916
        ],
        [
         8,
         6.471,
         42.426
        ],
        [
         8,
         3.919,
         24.451
        ],
        [
         6,
         3.561,
         19.128
        ],
        [
         3,
         0.301,
         5.609
        ],
        [
         4,
         7.163,
         41.444
        ],
        [
         7,
         0.309,
         12.027
        ],
        [
         3,
         6.335,
         32.357
        ]
       ],
       "datasetInfos": [],
       "dbfsResultPath": null,
       "isJsonSchema": true,
       "metadata": {},
       "overflow": false,
       "plotOptions": {
        "customPlotOptions": {},
        "displayType": "table",
        "pivotAggregation": null,
        "pivotColumns": null,
        "xColumns": null,
        "yColumns": null
       },
       "removedWidgets": [],
       "schema": [
        {
         "metadata": "{}",
         "name": "number_courses",
         "type": "\"integer\""
        },
        {
         "metadata": "{}",
         "name": "time_study",
         "type": "\"double\""
        },
        {
         "metadata": "{}",
         "name": "Marks",
         "type": "\"double\""
        }
       ],
       "type": "table"
      }
     },
     "output_type": "display_data"
    }
   ],
   "source": [
    "df=spark.read.format(\"csv\").options(header=\"True\",inferSchema=\"True\").load(\"dbfs:/FileStore/Student_Marks.csv\")\n",
    "df.display()"
   ]
  },
  {
   "cell_type": "code",
   "execution_count": 0,
   "metadata": {
    "application/vnd.databricks.v1+cell": {
     "cellMetadata": {
      "byteLimit": 2048000,
      "rowLimit": 10000
     },
     "inputWidgets": {},
     "nuid": "db6c51ce-6467-40a2-9e5c-279a03f88606",
     "showTitle": false,
     "title": ""
    }
   },
   "outputs": [],
   "source": [
    "from pyspark.sql.functions import row_number,rank,dense_rank\n",
    "from pyspark.sql.window import Window\n"
   ]
  },
  {
   "cell_type": "code",
   "execution_count": 0,
   "metadata": {
    "application/vnd.databricks.v1+cell": {
     "cellMetadata": {
      "byteLimit": 2048000,
      "rowLimit": 10000
     },
     "inputWidgets": {},
     "nuid": "ccdb9429-aecb-4593-88f0-4c9bb1dde904",
     "showTitle": false,
     "title": ""
    }
   },
   "outputs": [
    {
     "output_type": "display_data",
     "data": {
      "text/html": [
       "<style scoped>\n",
       "  .table-result-container {\n",
       "    max-height: 300px;\n",
       "    overflow: auto;\n",
       "  }\n",
       "  table, th, td {\n",
       "    border: 1px solid black;\n",
       "    border-collapse: collapse;\n",
       "  }\n",
       "  th, td {\n",
       "    padding: 5px;\n",
       "  }\n",
       "  th {\n",
       "    text-align: left;\n",
       "  }\n",
       "</style><div class='table-result-container'><table class='table-result'><thead style='background-color: white'><tr><th>number_courses</th><th>time_study</th><th>Marks</th></tr></thead><tbody><tr><td>3</td><td>4.508</td><td>19.202</td></tr><tr><td>3</td><td>6.063</td><td>29.889</td></tr><tr><td>3</td><td>6.173</td><td>30.862</td></tr><tr><td>3</td><td>7.353</td><td>42.036</td></tr><tr><td>3</td><td>4.274</td><td>17.672</td></tr><tr><td>3</td><td>2.908</td><td>11.397</td></tr><tr><td>3</td><td>1.407</td><td>6.623</td></tr><tr><td>3</td><td>1.923</td><td>8.1</td></tr><tr><td>3</td><td>4.083</td><td>17.171</td></tr><tr><td>3</td><td>7.543</td><td>43.978</td></tr><tr><td>3</td><td>2.061</td><td>8.924</td></tr><tr><td>3</td><td>5.635</td><td>26.882</td></tr><tr><td>3</td><td>6.198</td><td>31.236</td></tr><tr><td>3</td><td>4.869</td><td>21.379</td></tr><tr><td>3</td><td>0.55</td><td>6.185</td></tr><tr><td>3</td><td>4.633</td><td>20.398</td></tr><tr><td>3</td><td>1.629</td><td>7.014</td></tr><tr><td>3</td><td>0.803</td><td>6.217</td></tr><tr><td>3</td><td>0.805</td><td>6.349</td></tr><tr><td>3</td><td>1.033</td><td>6.053</td></tr><tr><td>3</td><td>0.301</td><td>5.609</td></tr><tr><td>3</td><td>6.335</td><td>32.357</td></tr><tr><td>4</td><td>0.096</td><td>7.734</td></tr><tr><td>4</td><td>3.133</td><td>13.811</td></tr><tr><td>4</td><td>4.41</td><td>20.348</td></tr><tr><td>4</td><td>4.26</td><td>19.466</td></tr><tr><td>4</td><td>4.733</td><td>22.073</td></tr><tr><td>4</td><td>3.635</td><td>16.517</td></tr><tr><td>4</td><td>1.299</td><td>8.837</td></tr><tr><td>4</td><td>2.966</td><td>13.119</td></tr><tr><td>4</td><td>0.14</td><td>7.336</td></tr><tr><td>4</td><td>1.954</td><td>9.742</td></tr><tr><td>4</td><td>3.797</td><td>16.703</td></tr><tr><td>4</td><td>4.779</td><td>22.701</td></tr><tr><td>4</td><td>0.771</td><td>7.892</td></tr><tr><td>4</td><td>2.438</td><td>10.844</td></tr><tr><td>4</td><td>5.473</td><td>27.569</td></tr><tr><td>4</td><td>1.395</td><td>8.92</td></tr><tr><td>4</td><td>3.736</td><td>16.606</td></tr><tr><td>4</td><td>6.954</td><td>39.952</td></tr><tr><td>4</td><td>7.41</td><td>44.099</td></tr><tr><td>4</td><td>5.027</td><td>23.916</td></tr><tr><td>4</td><td>7.163</td><td>41.444</td></tr><tr><td>5</td><td>3.413</td><td>17.264</td></tr><tr><td>5</td><td>5.719</td><td>30.548</td></tr><tr><td>5</td><td>2.051</td><td>12.209</td></tr><tr><td>5</td><td>0.156</td><td>9.333</td></tr><tr><td>5</td><td>1.557</td><td>10.429</td></tr><tr><td>5</td><td>3.913</td><td>19.106</td></tr><tr><td>5</td><td>2.518</td><td>13.416</td></tr><tr><td>5</td><td>6.379</td><td>36.746</td></tr><tr><td>5</td><td>3.197</td><td>16.106</td></tr><tr><td>5</td><td>1.803</td><td>11.253</td></tr><tr><td>6</td><td>7.909</td><td>53.018</td></tr><tr><td>6</td><td>3.211</td><td>17.822</td></tr><tr><td>6</td><td>7.711</td><td>50.986</td></tr><tr><td>6</td><td>6.126</td><td>35.939</td></tr><tr><td>6</td><td>6.594</td><td>39.965</td></tr><tr><td>6</td><td>7.283</td><td>46.453</td></tr><tr><td>6</td><td>7.775</td><td>51.142</td></tr><tr><td>6</td><td>2.754</td><td>15.725</td></tr><tr><td>6</td><td>3.591</td><td>19.771</td></tr><tr><td>6</td><td>6.703</td><td>40.602</td></tr><tr><td>6</td><td>4.13</td><td>22.184</td></tr><tr><td>6</td><td>0.376</td><td>10.522</td></tr><tr><td>6</td><td>3.606</td><td>19.59</td></tr><tr><td>6</td><td>2.142</td><td>13.562</td></tr><tr><td>6</td><td>3.948</td><td>21.4</td></tr><tr><td>6</td><td>3.561</td><td>19.128</td></tr><tr><td>7</td><td>0.423</td><td>12.132</td></tr><tr><td>7</td><td>4.218</td><td>24.318</td></tr><tr><td>7</td><td>4.875</td><td>28.043</td></tr><tr><td>7</td><td>0.508</td><td>12.647</td></tr><tr><td>7</td><td>6.533</td><td>41.358</td></tr><tr><td>7</td><td>6.049</td><td>36.653</td></tr><tr><td>7</td><td>2.913</td><td>18.238</td></tr><tr><td>7</td><td>7.649</td><td>51.583</td></tr><tr><td>7</td><td>0.13</td><td>12.591</td></tr><tr><td>7</td><td>7.451</td><td>49.544</td></tr><tr><td>7</td><td>7.957</td><td>54.321</td></tr><tr><td>7</td><td>4.067</td><td>23.149</td></tr><tr><td>7</td><td>6.376</td><td>40.024</td></tr><tr><td>7</td><td>4.182</td><td>24.394</td></tr><tr><td>7</td><td>0.309</td><td>12.027</td></tr><tr><td>8</td><td>7.811</td><td>55.299</td></tr><tr><td>8</td><td>6.08</td><td>38.49</td></tr><tr><td>8</td><td>3.977</td><td>25.133</td></tr><tr><td>8</td><td>4.378</td><td>26.532</td></tr><tr><td>8</td><td>3.864</td><td>24.172</td></tr><tr><td>8</td><td>0.932</td><td>15.038</td></tr><tr><td>8</td><td>7.591</td><td>53.158</td></tr><tr><td>8</td><td>7.641</td><td>53.359</td></tr><tr><td>8</td><td>7.468</td><td>51.343</td></tr><tr><td>8</td><td>5.985</td><td>38.278</td></tr><tr><td>8</td><td>2.262</td><td>17.705</td></tr><tr><td>8</td><td>1.982</td><td>16.461</td></tr><tr><td>8</td><td>6.201</td><td>39.957</td></tr><tr><td>8</td><td>2.73</td><td>19.564</td></tr><tr><td>8</td><td>6.471</td><td>42.426</td></tr><tr><td>8</td><td>3.919</td><td>24.451</td></tr></tbody></table></div>"
      ]
     },
     "metadata": {
      "application/vnd.databricks.v1+output": {
       "addedWidgets": {},
       "aggData": [],
       "aggError": "",
       "aggOverflow": false,
       "aggSchema": [],
       "aggSeriesLimitReached": false,
       "aggType": "",
       "arguments": {},
       "columnCustomDisplayInfos": {},
       "data": [
        [
         3,
         4.508,
         19.202
        ],
        [
         3,
         6.063,
         29.889
        ],
        [
         3,
         6.173,
         30.862
        ],
        [
         3,
         7.353,
         42.036
        ],
        [
         3,
         4.274,
         17.672
        ],
        [
         3,
         2.908,
         11.397
        ],
        [
         3,
         1.407,
         6.623
        ],
        [
         3,
         1.923,
         8.1
        ],
        [
         3,
         4.083,
         17.171
        ],
        [
         3,
         7.543,
         43.978
        ],
        [
         3,
         2.061,
         8.924
        ],
        [
         3,
         5.635,
         26.882
        ],
        [
         3,
         6.198,
         31.236
        ],
        [
         3,
         4.869,
         21.379
        ],
        [
         3,
         0.55,
         6.185
        ],
        [
         3,
         4.633,
         20.398
        ],
        [
         3,
         1.629,
         7.014
        ],
        [
         3,
         0.803,
         6.217
        ],
        [
         3,
         0.805,
         6.349
        ],
        [
         3,
         1.033,
         6.053
        ],
        [
         3,
         0.301,
         5.609
        ],
        [
         3,
         6.335,
         32.357
        ],
        [
         4,
         0.096,
         7.734
        ],
        [
         4,
         3.133,
         13.811
        ],
        [
         4,
         4.41,
         20.348
        ],
        [
         4,
         4.26,
         19.466
        ],
        [
         4,
         4.733,
         22.073
        ],
        [
         4,
         3.635,
         16.517
        ],
        [
         4,
         1.299,
         8.837
        ],
        [
         4,
         2.966,
         13.119
        ],
        [
         4,
         0.14,
         7.336
        ],
        [
         4,
         1.954,
         9.742
        ],
        [
         4,
         3.797,
         16.703
        ],
        [
         4,
         4.779,
         22.701
        ],
        [
         4,
         0.771,
         7.892
        ],
        [
         4,
         2.438,
         10.844
        ],
        [
         4,
         5.473,
         27.569
        ],
        [
         4,
         1.395,
         8.92
        ],
        [
         4,
         3.736,
         16.606
        ],
        [
         4,
         6.954,
         39.952
        ],
        [
         4,
         7.41,
         44.099
        ],
        [
         4,
         5.027,
         23.916
        ],
        [
         4,
         7.163,
         41.444
        ],
        [
         5,
         3.413,
         17.264
        ],
        [
         5,
         5.719,
         30.548
        ],
        [
         5,
         2.051,
         12.209
        ],
        [
         5,
         0.156,
         9.333
        ],
        [
         5,
         1.557,
         10.429
        ],
        [
         5,
         3.913,
         19.106
        ],
        [
         5,
         2.518,
         13.416
        ],
        [
         5,
         6.379,
         36.746
        ],
        [
         5,
         3.197,
         16.106
        ],
        [
         5,
         1.803,
         11.253
        ],
        [
         6,
         7.909,
         53.018
        ],
        [
         6,
         3.211,
         17.822
        ],
        [
         6,
         7.711,
         50.986
        ],
        [
         6,
         6.126,
         35.939
        ],
        [
         6,
         6.594,
         39.965
        ],
        [
         6,
         7.283,
         46.453
        ],
        [
         6,
         7.775,
         51.142
        ],
        [
         6,
         2.754,
         15.725
        ],
        [
         6,
         3.591,
         19.771
        ],
        [
         6,
         6.703,
         40.602
        ],
        [
         6,
         4.13,
         22.184
        ],
        [
         6,
         0.376,
         10.522
        ],
        [
         6,
         3.606,
         19.59
        ],
        [
         6,
         2.142,
         13.562
        ],
        [
         6,
         3.948,
         21.4
        ],
        [
         6,
         3.561,
         19.128
        ],
        [
         7,
         0.423,
         12.132
        ],
        [
         7,
         4.218,
         24.318
        ],
        [
         7,
         4.875,
         28.043
        ],
        [
         7,
         0.508,
         12.647
        ],
        [
         7,
         6.533,
         41.358
        ],
        [
         7,
         6.049,
         36.653
        ],
        [
         7,
         2.913,
         18.238
        ],
        [
         7,
         7.649,
         51.583
        ],
        [
         7,
         0.13,
         12.591
        ],
        [
         7,
         7.451,
         49.544
        ],
        [
         7,
         7.957,
         54.321
        ],
        [
         7,
         4.067,
         23.149
        ],
        [
         7,
         6.376,
         40.024
        ],
        [
         7,
         4.182,
         24.394
        ],
        [
         7,
         0.309,
         12.027
        ],
        [
         8,
         7.811,
         55.299
        ],
        [
         8,
         6.08,
         38.49
        ],
        [
         8,
         3.977,
         25.133
        ],
        [
         8,
         4.378,
         26.532
        ],
        [
         8,
         3.864,
         24.172
        ],
        [
         8,
         0.932,
         15.038
        ],
        [
         8,
         7.591,
         53.158
        ],
        [
         8,
         7.641,
         53.359
        ],
        [
         8,
         7.468,
         51.343
        ],
        [
         8,
         5.985,
         38.278
        ],
        [
         8,
         2.262,
         17.705
        ],
        [
         8,
         1.982,
         16.461
        ],
        [
         8,
         6.201,
         39.957
        ],
        [
         8,
         2.73,
         19.564
        ],
        [
         8,
         6.471,
         42.426
        ],
        [
         8,
         3.919,
         24.451
        ]
       ],
       "datasetInfos": [],
       "dbfsResultPath": null,
       "isJsonSchema": true,
       "metadata": {},
       "overflow": false,
       "plotOptions": {
        "customPlotOptions": {},
        "displayType": "table",
        "pivotAggregation": null,
        "pivotColumns": null,
        "xColumns": null,
        "yColumns": null
       },
       "removedWidgets": [],
       "schema": [
        {
         "metadata": "{}",
         "name": "number_courses",
         "type": "\"integer\""
        },
        {
         "metadata": "{}",
         "name": "time_study",
         "type": "\"double\""
        },
        {
         "metadata": "{}",
         "name": "Marks",
         "type": "\"double\""
        }
       ],
       "type": "table"
      }
     },
     "output_type": "display_data"
    }
   ],
   "source": [
    "df.sort(\"number_courses\").display()"
   ]
  },
  {
   "cell_type": "code",
   "execution_count": 0,
   "metadata": {
    "application/vnd.databricks.v1+cell": {
     "cellMetadata": {
      "byteLimit": 2048000,
      "rowLimit": 10000
     },
     "inputWidgets": {},
     "nuid": "bc31001c-da2b-4c90-97ca-3161e7307424",
     "showTitle": false,
     "title": ""
    }
   },
   "outputs": [],
   "source": [
    "window=Window.partitionBy(\"number_courses\").orderBy('Marks')"
   ]
  },
  {
   "cell_type": "code",
   "execution_count": 0,
   "metadata": {
    "application/vnd.databricks.v1+cell": {
     "cellMetadata": {
      "byteLimit": 2048000,
      "rowLimit": 10000
     },
     "inputWidgets": {},
     "nuid": "b8ebf06f-34ef-4248-8ec6-d14fb5ba2773",
     "showTitle": false,
     "title": ""
    }
   },
   "outputs": [
    {
     "output_type": "display_data",
     "data": {
      "text/html": [
       "<style scoped>\n",
       "  .table-result-container {\n",
       "    max-height: 300px;\n",
       "    overflow: auto;\n",
       "  }\n",
       "  table, th, td {\n",
       "    border: 1px solid black;\n",
       "    border-collapse: collapse;\n",
       "  }\n",
       "  th, td {\n",
       "    padding: 5px;\n",
       "  }\n",
       "  th {\n",
       "    text-align: left;\n",
       "  }\n",
       "</style><div class='table-result-container'><table class='table-result'><thead style='background-color: white'><tr><th>number_courses</th><th>time_study</th><th>Marks</th><th>row_number</th><th>rank</th><th>dense_rank</th></tr></thead><tbody><tr><td>3</td><td>0.301</td><td>5.609</td><td>1</td><td>1</td><td>1</td></tr><tr><td>3</td><td>1.033</td><td>6.053</td><td>2</td><td>2</td><td>2</td></tr><tr><td>3</td><td>0.55</td><td>6.185</td><td>3</td><td>3</td><td>3</td></tr><tr><td>3</td><td>0.803</td><td>6.217</td><td>4</td><td>4</td><td>4</td></tr><tr><td>3</td><td>0.805</td><td>6.349</td><td>5</td><td>5</td><td>5</td></tr><tr><td>3</td><td>1.407</td><td>6.623</td><td>6</td><td>6</td><td>6</td></tr><tr><td>3</td><td>1.629</td><td>7.014</td><td>7</td><td>7</td><td>7</td></tr><tr><td>3</td><td>1.923</td><td>8.1</td><td>8</td><td>8</td><td>8</td></tr><tr><td>3</td><td>2.061</td><td>8.924</td><td>9</td><td>9</td><td>9</td></tr><tr><td>3</td><td>2.908</td><td>11.397</td><td>10</td><td>10</td><td>10</td></tr><tr><td>3</td><td>4.083</td><td>17.171</td><td>11</td><td>11</td><td>11</td></tr><tr><td>3</td><td>4.274</td><td>17.672</td><td>12</td><td>12</td><td>12</td></tr><tr><td>3</td><td>4.508</td><td>19.202</td><td>13</td><td>13</td><td>13</td></tr><tr><td>3</td><td>4.633</td><td>20.398</td><td>14</td><td>14</td><td>14</td></tr><tr><td>3</td><td>4.869</td><td>21.379</td><td>15</td><td>15</td><td>15</td></tr><tr><td>3</td><td>5.635</td><td>26.882</td><td>16</td><td>16</td><td>16</td></tr><tr><td>3</td><td>6.063</td><td>29.889</td><td>17</td><td>17</td><td>17</td></tr><tr><td>3</td><td>6.173</td><td>30.862</td><td>18</td><td>18</td><td>18</td></tr><tr><td>3</td><td>6.198</td><td>31.236</td><td>19</td><td>19</td><td>19</td></tr><tr><td>3</td><td>6.335</td><td>32.357</td><td>20</td><td>20</td><td>20</td></tr><tr><td>3</td><td>7.353</td><td>42.036</td><td>21</td><td>21</td><td>21</td></tr><tr><td>3</td><td>7.543</td><td>43.978</td><td>22</td><td>22</td><td>22</td></tr><tr><td>4</td><td>0.14</td><td>7.336</td><td>1</td><td>1</td><td>1</td></tr><tr><td>4</td><td>0.096</td><td>7.734</td><td>2</td><td>2</td><td>2</td></tr><tr><td>4</td><td>0.771</td><td>7.892</td><td>3</td><td>3</td><td>3</td></tr><tr><td>4</td><td>1.299</td><td>8.837</td><td>4</td><td>4</td><td>4</td></tr><tr><td>4</td><td>1.395</td><td>8.92</td><td>5</td><td>5</td><td>5</td></tr><tr><td>4</td><td>1.954</td><td>9.742</td><td>6</td><td>6</td><td>6</td></tr><tr><td>4</td><td>2.438</td><td>10.844</td><td>7</td><td>7</td><td>7</td></tr><tr><td>4</td><td>2.966</td><td>13.119</td><td>8</td><td>8</td><td>8</td></tr><tr><td>4</td><td>3.133</td><td>13.811</td><td>9</td><td>9</td><td>9</td></tr><tr><td>4</td><td>3.635</td><td>16.517</td><td>10</td><td>10</td><td>10</td></tr><tr><td>4</td><td>3.736</td><td>16.606</td><td>11</td><td>11</td><td>11</td></tr><tr><td>4</td><td>3.797</td><td>16.703</td><td>12</td><td>12</td><td>12</td></tr><tr><td>4</td><td>4.26</td><td>19.466</td><td>13</td><td>13</td><td>13</td></tr><tr><td>4</td><td>4.41</td><td>20.348</td><td>14</td><td>14</td><td>14</td></tr><tr><td>4</td><td>4.733</td><td>22.073</td><td>15</td><td>15</td><td>15</td></tr><tr><td>4</td><td>4.779</td><td>22.701</td><td>16</td><td>16</td><td>16</td></tr><tr><td>4</td><td>5.027</td><td>23.916</td><td>17</td><td>17</td><td>17</td></tr><tr><td>4</td><td>5.473</td><td>27.569</td><td>18</td><td>18</td><td>18</td></tr><tr><td>4</td><td>6.954</td><td>39.952</td><td>19</td><td>19</td><td>19</td></tr><tr><td>4</td><td>7.163</td><td>41.444</td><td>20</td><td>20</td><td>20</td></tr><tr><td>4</td><td>7.41</td><td>44.099</td><td>21</td><td>21</td><td>21</td></tr><tr><td>5</td><td>0.156</td><td>9.333</td><td>1</td><td>1</td><td>1</td></tr><tr><td>5</td><td>1.557</td><td>10.429</td><td>2</td><td>2</td><td>2</td></tr><tr><td>5</td><td>1.803</td><td>11.253</td><td>3</td><td>3</td><td>3</td></tr><tr><td>5</td><td>2.051</td><td>12.209</td><td>4</td><td>4</td><td>4</td></tr><tr><td>5</td><td>2.518</td><td>13.416</td><td>5</td><td>5</td><td>5</td></tr><tr><td>5</td><td>3.197</td><td>16.106</td><td>6</td><td>6</td><td>6</td></tr><tr><td>5</td><td>3.413</td><td>17.264</td><td>7</td><td>7</td><td>7</td></tr><tr><td>5</td><td>3.913</td><td>19.106</td><td>8</td><td>8</td><td>8</td></tr><tr><td>5</td><td>5.719</td><td>30.548</td><td>9</td><td>9</td><td>9</td></tr><tr><td>5</td><td>6.379</td><td>36.746</td><td>10</td><td>10</td><td>10</td></tr><tr><td>6</td><td>0.376</td><td>10.522</td><td>1</td><td>1</td><td>1</td></tr><tr><td>6</td><td>2.142</td><td>13.562</td><td>2</td><td>2</td><td>2</td></tr><tr><td>6</td><td>2.754</td><td>15.725</td><td>3</td><td>3</td><td>3</td></tr><tr><td>6</td><td>3.211</td><td>17.822</td><td>4</td><td>4</td><td>4</td></tr><tr><td>6</td><td>3.561</td><td>19.128</td><td>5</td><td>5</td><td>5</td></tr><tr><td>6</td><td>3.606</td><td>19.59</td><td>6</td><td>6</td><td>6</td></tr><tr><td>6</td><td>3.591</td><td>19.771</td><td>7</td><td>7</td><td>7</td></tr><tr><td>6</td><td>3.948</td><td>21.4</td><td>8</td><td>8</td><td>8</td></tr><tr><td>6</td><td>4.13</td><td>22.184</td><td>9</td><td>9</td><td>9</td></tr><tr><td>6</td><td>6.126</td><td>35.939</td><td>10</td><td>10</td><td>10</td></tr><tr><td>6</td><td>6.594</td><td>39.965</td><td>11</td><td>11</td><td>11</td></tr><tr><td>6</td><td>6.703</td><td>40.602</td><td>12</td><td>12</td><td>12</td></tr><tr><td>6</td><td>7.283</td><td>46.453</td><td>13</td><td>13</td><td>13</td></tr><tr><td>6</td><td>7.711</td><td>50.986</td><td>14</td><td>14</td><td>14</td></tr><tr><td>6</td><td>7.775</td><td>51.142</td><td>15</td><td>15</td><td>15</td></tr><tr><td>6</td><td>7.909</td><td>53.018</td><td>16</td><td>16</td><td>16</td></tr><tr><td>7</td><td>0.309</td><td>12.027</td><td>1</td><td>1</td><td>1</td></tr><tr><td>7</td><td>0.423</td><td>12.132</td><td>2</td><td>2</td><td>2</td></tr><tr><td>7</td><td>0.13</td><td>12.591</td><td>3</td><td>3</td><td>3</td></tr><tr><td>7</td><td>0.508</td><td>12.647</td><td>4</td><td>4</td><td>4</td></tr><tr><td>7</td><td>2.913</td><td>18.238</td><td>5</td><td>5</td><td>5</td></tr><tr><td>7</td><td>4.067</td><td>23.149</td><td>6</td><td>6</td><td>6</td></tr><tr><td>7</td><td>4.218</td><td>24.318</td><td>7</td><td>7</td><td>7</td></tr><tr><td>7</td><td>4.182</td><td>24.394</td><td>8</td><td>8</td><td>8</td></tr><tr><td>7</td><td>4.875</td><td>28.043</td><td>9</td><td>9</td><td>9</td></tr><tr><td>7</td><td>6.049</td><td>36.653</td><td>10</td><td>10</td><td>10</td></tr><tr><td>7</td><td>6.376</td><td>40.024</td><td>11</td><td>11</td><td>11</td></tr><tr><td>7</td><td>6.533</td><td>41.358</td><td>12</td><td>12</td><td>12</td></tr><tr><td>7</td><td>7.451</td><td>49.544</td><td>13</td><td>13</td><td>13</td></tr><tr><td>7</td><td>7.649</td><td>51.583</td><td>14</td><td>14</td><td>14</td></tr><tr><td>7</td><td>7.957</td><td>54.321</td><td>15</td><td>15</td><td>15</td></tr><tr><td>8</td><td>0.932</td><td>15.038</td><td>1</td><td>1</td><td>1</td></tr><tr><td>8</td><td>1.982</td><td>16.461</td><td>2</td><td>2</td><td>2</td></tr><tr><td>8</td><td>2.262</td><td>17.705</td><td>3</td><td>3</td><td>3</td></tr><tr><td>8</td><td>2.73</td><td>19.564</td><td>4</td><td>4</td><td>4</td></tr><tr><td>8</td><td>3.864</td><td>24.172</td><td>5</td><td>5</td><td>5</td></tr><tr><td>8</td><td>3.919</td><td>24.451</td><td>6</td><td>6</td><td>6</td></tr><tr><td>8</td><td>3.977</td><td>25.133</td><td>7</td><td>7</td><td>7</td></tr><tr><td>8</td><td>4.378</td><td>26.532</td><td>8</td><td>8</td><td>8</td></tr><tr><td>8</td><td>5.985</td><td>38.278</td><td>9</td><td>9</td><td>9</td></tr><tr><td>8</td><td>6.08</td><td>38.49</td><td>10</td><td>10</td><td>10</td></tr><tr><td>8</td><td>6.201</td><td>39.957</td><td>11</td><td>11</td><td>11</td></tr><tr><td>8</td><td>6.471</td><td>42.426</td><td>12</td><td>12</td><td>12</td></tr><tr><td>8</td><td>7.468</td><td>51.343</td><td>13</td><td>13</td><td>13</td></tr><tr><td>8</td><td>7.591</td><td>53.158</td><td>14</td><td>14</td><td>14</td></tr><tr><td>8</td><td>7.641</td><td>53.359</td><td>15</td><td>15</td><td>15</td></tr><tr><td>8</td><td>7.811</td><td>55.299</td><td>16</td><td>16</td><td>16</td></tr></tbody></table></div>"
      ]
     },
     "metadata": {
      "application/vnd.databricks.v1+output": {
       "addedWidgets": {},
       "aggData": [],
       "aggError": "",
       "aggOverflow": false,
       "aggSchema": [],
       "aggSeriesLimitReached": false,
       "aggType": "",
       "arguments": {},
       "columnCustomDisplayInfos": {},
       "data": [
        [
         3,
         0.301,
         5.609,
         1,
         1,
         1
        ],
        [
         3,
         1.033,
         6.053,
         2,
         2,
         2
        ],
        [
         3,
         0.55,
         6.185,
         3,
         3,
         3
        ],
        [
         3,
         0.803,
         6.217,
         4,
         4,
         4
        ],
        [
         3,
         0.805,
         6.349,
         5,
         5,
         5
        ],
        [
         3,
         1.407,
         6.623,
         6,
         6,
         6
        ],
        [
         3,
         1.629,
         7.014,
         7,
         7,
         7
        ],
        [
         3,
         1.923,
         8.1,
         8,
         8,
         8
        ],
        [
         3,
         2.061,
         8.924,
         9,
         9,
         9
        ],
        [
         3,
         2.908,
         11.397,
         10,
         10,
         10
        ],
        [
         3,
         4.083,
         17.171,
         11,
         11,
         11
        ],
        [
         3,
         4.274,
         17.672,
         12,
         12,
         12
        ],
        [
         3,
         4.508,
         19.202,
         13,
         13,
         13
        ],
        [
         3,
         4.633,
         20.398,
         14,
         14,
         14
        ],
        [
         3,
         4.869,
         21.379,
         15,
         15,
         15
        ],
        [
         3,
         5.635,
         26.882,
         16,
         16,
         16
        ],
        [
         3,
         6.063,
         29.889,
         17,
         17,
         17
        ],
        [
         3,
         6.173,
         30.862,
         18,
         18,
         18
        ],
        [
         3,
         6.198,
         31.236,
         19,
         19,
         19
        ],
        [
         3,
         6.335,
         32.357,
         20,
         20,
         20
        ],
        [
         3,
         7.353,
         42.036,
         21,
         21,
         21
        ],
        [
         3,
         7.543,
         43.978,
         22,
         22,
         22
        ],
        [
         4,
         0.14,
         7.336,
         1,
         1,
         1
        ],
        [
         4,
         0.096,
         7.734,
         2,
         2,
         2
        ],
        [
         4,
         0.771,
         7.892,
         3,
         3,
         3
        ],
        [
         4,
         1.299,
         8.837,
         4,
         4,
         4
        ],
        [
         4,
         1.395,
         8.92,
         5,
         5,
         5
        ],
        [
         4,
         1.954,
         9.742,
         6,
         6,
         6
        ],
        [
         4,
         2.438,
         10.844,
         7,
         7,
         7
        ],
        [
         4,
         2.966,
         13.119,
         8,
         8,
         8
        ],
        [
         4,
         3.133,
         13.811,
         9,
         9,
         9
        ],
        [
         4,
         3.635,
         16.517,
         10,
         10,
         10
        ],
        [
         4,
         3.736,
         16.606,
         11,
         11,
         11
        ],
        [
         4,
         3.797,
         16.703,
         12,
         12,
         12
        ],
        [
         4,
         4.26,
         19.466,
         13,
         13,
         13
        ],
        [
         4,
         4.41,
         20.348,
         14,
         14,
         14
        ],
        [
         4,
         4.733,
         22.073,
         15,
         15,
         15
        ],
        [
         4,
         4.779,
         22.701,
         16,
         16,
         16
        ],
        [
         4,
         5.027,
         23.916,
         17,
         17,
         17
        ],
        [
         4,
         5.473,
         27.569,
         18,
         18,
         18
        ],
        [
         4,
         6.954,
         39.952,
         19,
         19,
         19
        ],
        [
         4,
         7.163,
         41.444,
         20,
         20,
         20
        ],
        [
         4,
         7.41,
         44.099,
         21,
         21,
         21
        ],
        [
         5,
         0.156,
         9.333,
         1,
         1,
         1
        ],
        [
         5,
         1.557,
         10.429,
         2,
         2,
         2
        ],
        [
         5,
         1.803,
         11.253,
         3,
         3,
         3
        ],
        [
         5,
         2.051,
         12.209,
         4,
         4,
         4
        ],
        [
         5,
         2.518,
         13.416,
         5,
         5,
         5
        ],
        [
         5,
         3.197,
         16.106,
         6,
         6,
         6
        ],
        [
         5,
         3.413,
         17.264,
         7,
         7,
         7
        ],
        [
         5,
         3.913,
         19.106,
         8,
         8,
         8
        ],
        [
         5,
         5.719,
         30.548,
         9,
         9,
         9
        ],
        [
         5,
         6.379,
         36.746,
         10,
         10,
         10
        ],
        [
         6,
         0.376,
         10.522,
         1,
         1,
         1
        ],
        [
         6,
         2.142,
         13.562,
         2,
         2,
         2
        ],
        [
         6,
         2.754,
         15.725,
         3,
         3,
         3
        ],
        [
         6,
         3.211,
         17.822,
         4,
         4,
         4
        ],
        [
         6,
         3.561,
         19.128,
         5,
         5,
         5
        ],
        [
         6,
         3.606,
         19.59,
         6,
         6,
         6
        ],
        [
         6,
         3.591,
         19.771,
         7,
         7,
         7
        ],
        [
         6,
         3.948,
         21.4,
         8,
         8,
         8
        ],
        [
         6,
         4.13,
         22.184,
         9,
         9,
         9
        ],
        [
         6,
         6.126,
         35.939,
         10,
         10,
         10
        ],
        [
         6,
         6.594,
         39.965,
         11,
         11,
         11
        ],
        [
         6,
         6.703,
         40.602,
         12,
         12,
         12
        ],
        [
         6,
         7.283,
         46.453,
         13,
         13,
         13
        ],
        [
         6,
         7.711,
         50.986,
         14,
         14,
         14
        ],
        [
         6,
         7.775,
         51.142,
         15,
         15,
         15
        ],
        [
         6,
         7.909,
         53.018,
         16,
         16,
         16
        ],
        [
         7,
         0.309,
         12.027,
         1,
         1,
         1
        ],
        [
         7,
         0.423,
         12.132,
         2,
         2,
         2
        ],
        [
         7,
         0.13,
         12.591,
         3,
         3,
         3
        ],
        [
         7,
         0.508,
         12.647,
         4,
         4,
         4
        ],
        [
         7,
         2.913,
         18.238,
         5,
         5,
         5
        ],
        [
         7,
         4.067,
         23.149,
         6,
         6,
         6
        ],
        [
         7,
         4.218,
         24.318,
         7,
         7,
         7
        ],
        [
         7,
         4.182,
         24.394,
         8,
         8,
         8
        ],
        [
         7,
         4.875,
         28.043,
         9,
         9,
         9
        ],
        [
         7,
         6.049,
         36.653,
         10,
         10,
         10
        ],
        [
         7,
         6.376,
         40.024,
         11,
         11,
         11
        ],
        [
         7,
         6.533,
         41.358,
         12,
         12,
         12
        ],
        [
         7,
         7.451,
         49.544,
         13,
         13,
         13
        ],
        [
         7,
         7.649,
         51.583,
         14,
         14,
         14
        ],
        [
         7,
         7.957,
         54.321,
         15,
         15,
         15
        ],
        [
         8,
         0.932,
         15.038,
         1,
         1,
         1
        ],
        [
         8,
         1.982,
         16.461,
         2,
         2,
         2
        ],
        [
         8,
         2.262,
         17.705,
         3,
         3,
         3
        ],
        [
         8,
         2.73,
         19.564,
         4,
         4,
         4
        ],
        [
         8,
         3.864,
         24.172,
         5,
         5,
         5
        ],
        [
         8,
         3.919,
         24.451,
         6,
         6,
         6
        ],
        [
         8,
         3.977,
         25.133,
         7,
         7,
         7
        ],
        [
         8,
         4.378,
         26.532,
         8,
         8,
         8
        ],
        [
         8,
         5.985,
         38.278,
         9,
         9,
         9
        ],
        [
         8,
         6.08,
         38.49,
         10,
         10,
         10
        ],
        [
         8,
         6.201,
         39.957,
         11,
         11,
         11
        ],
        [
         8,
         6.471,
         42.426,
         12,
         12,
         12
        ],
        [
         8,
         7.468,
         51.343,
         13,
         13,
         13
        ],
        [
         8,
         7.591,
         53.158,
         14,
         14,
         14
        ],
        [
         8,
         7.641,
         53.359,
         15,
         15,
         15
        ],
        [
         8,
         7.811,
         55.299,
         16,
         16,
         16
        ]
       ],
       "datasetInfos": [],
       "dbfsResultPath": null,
       "isJsonSchema": true,
       "metadata": {},
       "overflow": false,
       "plotOptions": {
        "customPlotOptions": {},
        "displayType": "table",
        "pivotAggregation": null,
        "pivotColumns": null,
        "xColumns": null,
        "yColumns": null
       },
       "removedWidgets": [],
       "schema": [
        {
         "metadata": "{}",
         "name": "number_courses",
         "type": "\"integer\""
        },
        {
         "metadata": "{}",
         "name": "time_study",
         "type": "\"double\""
        },
        {
         "metadata": "{}",
         "name": "Marks",
         "type": "\"double\""
        },
        {
         "metadata": "{}",
         "name": "row_number",
         "type": "\"integer\""
        },
        {
         "metadata": "{}",
         "name": "rank",
         "type": "\"integer\""
        },
        {
         "metadata": "{}",
         "name": "dense_rank",
         "type": "\"integer\""
        }
       ],
       "type": "table"
      }
     },
     "output_type": "display_data"
    }
   ],
   "source": [
    "result_df=df.withColumn(\"row_number\",row_number().over(window))\\\n",
    "    .withColumn(\"rank\",rank().over(window))\\\n",
    "    . withColumn(\"dense_rank\",dense_rank().over(window))\n",
    "display(result_df)"
   ]
  },
  {
   "cell_type": "code",
   "execution_count": 0,
   "metadata": {
    "application/vnd.databricks.v1+cell": {
     "cellMetadata": {
      "byteLimit": 2048000,
      "rowLimit": 10000
     },
     "inputWidgets": {},
     "nuid": "385fef2f-60c9-430b-844d-31b83d91414d",
     "showTitle": false,
     "title": ""
    }
   },
   "outputs": [
    {
     "output_type": "display_data",
     "data": {
      "text/html": [
       "<style scoped>\n",
       "  .table-result-container {\n",
       "    max-height: 300px;\n",
       "    overflow: auto;\n",
       "  }\n",
       "  table, th, td {\n",
       "    border: 1px solid black;\n",
       "    border-collapse: collapse;\n",
       "  }\n",
       "  th, td {\n",
       "    padding: 5px;\n",
       "  }\n",
       "  th {\n",
       "    text-align: left;\n",
       "  }\n",
       "</style><div class='table-result-container'><table class='table-result'><thead style='background-color: white'><tr><th>name</th><th>roll_no</th></tr></thead><tbody><tr><td>\"\"\"sa\"\"</td><td>\"\"da\"\"</td></tr><tr><td>\"\"\"vad\"\"</td><td>\"\"sda\"\"\"</td></tr></tbody></table></div>"
      ]
     },
     "metadata": {
      "application/vnd.databricks.v1+output": {
       "addedWidgets": {},
       "aggData": [],
       "aggError": "",
       "aggOverflow": false,
       "aggSchema": [],
       "aggSeriesLimitReached": false,
       "aggType": "",
       "arguments": {},
       "columnCustomDisplayInfos": {},
       "data": [
        [
         "\"\"\"sa\"\"",
         "\"\"da\"\""
        ],
        [
         "\"\"\"vad\"\"",
         "\"\"sda\"\"\""
        ]
       ],
       "datasetInfos": [],
       "dbfsResultPath": null,
       "isJsonSchema": true,
       "metadata": {},
       "overflow": false,
       "plotOptions": {
        "customPlotOptions": {},
        "displayType": "table",
        "pivotAggregation": null,
        "pivotColumns": null,
        "xColumns": null,
        "yColumns": null
       },
       "removedWidgets": [],
       "schema": [
        {
         "metadata": "{}",
         "name": "name",
         "type": "\"string\""
        },
        {
         "metadata": "{}",
         "name": "roll_no",
         "type": "\"string\""
        }
       ],
       "type": "table"
      }
     },
     "output_type": "display_data"
    }
   ],
   "source": [
    "df=spark.read.format(\"csv\").options(header=\"True\",inferSchema=\"True\").load(\"dbfs:/FileStore/new_data.csv\")\n",
    "df.display()"
   ]
  },
  {
   "cell_type": "code",
   "execution_count": 0,
   "metadata": {
    "application/vnd.databricks.v1+cell": {
     "cellMetadata": {
      "byteLimit": 2048000,
      "rowLimit": 10000
     },
     "inputWidgets": {},
     "nuid": "3c76f33d-772e-478c-b605-cb3afc923ff2",
     "showTitle": false,
     "title": ""
    }
   },
   "outputs": [
    {
     "output_type": "stream",
     "name": "stdout",
     "output_type": "stream",
     "text": [
      "root\n |-- name: string (nullable = true)\n |-- roll_no: string (nullable = true)\n\n"
     ]
    }
   ],
   "source": [
    "df.printSchema()"
   ]
  },
  {
   "cell_type": "code",
   "execution_count": 0,
   "metadata": {
    "application/vnd.databricks.v1+cell": {
     "cellMetadata": {
      "byteLimit": 2048000,
      "rowLimit": 10000
     },
     "inputWidgets": {},
     "nuid": "a9f74da3-0b40-4f73-87db-051a736a7541",
     "showTitle": false,
     "title": ""
    }
   },
   "outputs": [],
   "source": [
    "from pyspark.sql.functions import split,array"
   ]
  },
  {
   "cell_type": "code",
   "execution_count": 0,
   "metadata": {
    "application/vnd.databricks.v1+cell": {
     "cellMetadata": {
      "byteLimit": 2048000,
      "rowLimit": 10000
     },
     "inputWidgets": {},
     "nuid": "9d02a2a5-88a2-44fb-943a-503573ca7252",
     "showTitle": false,
     "title": ""
    }
   },
   "outputs": [
    {
     "output_type": "display_data",
     "data": {
      "text/html": [
       "<style scoped>\n",
       "  .table-result-container {\n",
       "    max-height: 300px;\n",
       "    overflow: auto;\n",
       "  }\n",
       "  table, th, td {\n",
       "    border: 1px solid black;\n",
       "    border-collapse: collapse;\n",
       "  }\n",
       "  th, td {\n",
       "    padding: 5px;\n",
       "  }\n",
       "  th {\n",
       "    text-align: left;\n",
       "  }\n",
       "</style><div class='table-result-container'><table class='table-result'><thead style='background-color: white'><tr><th>name</th><th>roll_no</th></tr></thead><tbody><tr><td>\"\"\"sa\"\"</td><td>\"\"da\"\"</td></tr><tr><td>\"\"\"vad\"\"</td><td>\"\"sda\"\"\"</td></tr></tbody></table></div>"
      ]
     },
     "metadata": {
      "application/vnd.databricks.v1+output": {
       "addedWidgets": {},
       "aggData": [],
       "aggError": "",
       "aggOverflow": false,
       "aggSchema": [],
       "aggSeriesLimitReached": false,
       "aggType": "",
       "arguments": {},
       "columnCustomDisplayInfos": {},
       "data": [
        [
         "\"\"\"sa\"\"",
         "\"\"da\"\""
        ],
        [
         "\"\"\"vad\"\"",
         "\"\"sda\"\"\""
        ]
       ],
       "datasetInfos": [],
       "dbfsResultPath": null,
       "isJsonSchema": true,
       "metadata": {},
       "overflow": false,
       "plotOptions": {
        "customPlotOptions": {},
        "displayType": "table",
        "pivotAggregation": null,
        "pivotColumns": null,
        "xColumns": null,
        "yColumns": null
       },
       "removedWidgets": [],
       "schema": [
        {
         "metadata": "{}",
         "name": "name",
         "type": "\"string\""
        },
        {
         "metadata": "{}",
         "name": "roll_no",
         "type": "\"string\""
        }
       ],
       "type": "table"
      }
     },
     "output_type": "display_data"
    }
   ],
   "source": [
    "split_data = df.withColumn(\"name\", split(df[\"name\"],\",\")).withColumn(\"roll_no\", split(df[\"roll_no\"],\",\"))\n",
    "display(df)"
   ]
  },
  {
   "cell_type": "code",
   "execution_count": 0,
   "metadata": {
    "application/vnd.databricks.v1+cell": {
     "cellMetadata": {
      "byteLimit": 2048000,
      "rowLimit": 10000
     },
     "inputWidgets": {},
     "nuid": "07341f5b-d259-4c18-a11b-597f0442277f",
     "showTitle": false,
     "title": ""
    }
   },
   "outputs": [
    {
     "output_type": "stream",
     "name": "stdout",
     "output_type": "stream",
     "text": [
      "+--------+--------+\n|    name| roll_no|\n+--------+--------+\n| \"\"\"sa\"\"|  \"\"da\"\"|\n|\"\"\"vad\"\"|\"\"sda\"\"\"|\n+--------+--------+\n\n"
     ]
    }
   ],
   "source": [
    "df.show()"
   ]
  },
  {
   "cell_type": "code",
   "execution_count": 0,
   "metadata": {
    "application/vnd.databricks.v1+cell": {
     "cellMetadata": {},
     "inputWidgets": {},
     "nuid": "bb564bdd-6a3a-4cd9-8fce-acfb49b0fcb6",
     "showTitle": false,
     "title": ""
    }
   },
   "outputs": [],
   "source": []
  },
  {
   "cell_type": "code",
   "execution_count": 0,
   "metadata": {
    "application/vnd.databricks.v1+cell": {
     "cellMetadata": {
      "byteLimit": 2048000,
      "rowLimit": 10000
     },
     "inputWidgets": {},
     "nuid": "a287dcf2-2be7-493a-a0e0-910f80acf455",
     "showTitle": false,
     "title": ""
    }
   },
   "outputs": [
    {
     "output_type": "display_data",
     "data": {
      "text/plain": [
       "\u001B[0;31m---------------------------------------------------------------------------\u001B[0m\n",
       "\u001B[0;31mTypeError\u001B[0m                                 Traceback (most recent call last)\n",
       "File \u001B[0;32m<command-2922025235370058>:1\u001B[0m\n",
       "\u001B[0;32m----> 1\u001B[0m df\u001B[38;5;241m=\u001B[39mdf\u001B[38;5;241m.\u001B[39mwithColumn(\u001B[38;5;124m\"\u001B[39m\u001B[38;5;124mno\u001B[39m\u001B[38;5;124m\"\u001B[39m,\u001B[38;5;28;43mlen\u001B[39;49m\u001B[43m(\u001B[49m\u001B[43mdf\u001B[49m\u001B[43m[\u001B[49m\u001B[38;5;124;43m\"\u001B[39;49m\u001B[38;5;124;43mname\u001B[39;49m\u001B[38;5;124;43m\"\u001B[39;49m\u001B[43m]\u001B[49m\u001B[43m)\u001B[49m)\n",
       "\n",
       "\u001B[0;31mTypeError\u001B[0m: object of type 'Column' has no len()"
      ]
     },
     "metadata": {
      "application/vnd.databricks.v1+output": {
       "arguments": {},
       "data": "\u001B[0;31m---------------------------------------------------------------------------\u001B[0m\n\u001B[0;31mTypeError\u001B[0m                                 Traceback (most recent call last)\nFile \u001B[0;32m<command-2922025235370058>:1\u001B[0m\n\u001B[0;32m----> 1\u001B[0m df\u001B[38;5;241m=\u001B[39mdf\u001B[38;5;241m.\u001B[39mwithColumn(\u001B[38;5;124m\"\u001B[39m\u001B[38;5;124mno\u001B[39m\u001B[38;5;124m\"\u001B[39m,\u001B[38;5;28;43mlen\u001B[39;49m\u001B[43m(\u001B[49m\u001B[43mdf\u001B[49m\u001B[43m[\u001B[49m\u001B[38;5;124;43m\"\u001B[39;49m\u001B[38;5;124;43mname\u001B[39;49m\u001B[38;5;124;43m\"\u001B[39;49m\u001B[43m]\u001B[49m\u001B[43m)\u001B[49m)\n\n\u001B[0;31mTypeError\u001B[0m: object of type 'Column' has no len()",
       "errorSummary": "<span class='ansi-red-fg'>TypeError</span>: object of type 'Column' has no len()",
       "errorTraceType": "ansi",
       "metadata": {},
       "type": "ipynbError"
      }
     },
     "output_type": "display_data"
    }
   ],
   "source": [
    "df=df.withColumn(\"no\",(df[\"name\"]))"
   ]
  },
  {
   "cell_type": "code",
   "execution_count": 0,
   "metadata": {
    "application/vnd.databricks.v1+cell": {
     "cellMetadata": {
      "byteLimit": 2048000,
      "rowLimit": 10000
     },
     "inputWidgets": {},
     "nuid": "4a331b13-4abc-438d-a451-edd24c20fd1e",
     "showTitle": false,
     "title": ""
    }
   },
   "outputs": [
    {
     "output_type": "stream",
     "name": "stdout",
     "output_type": "stream",
     "text": [
      "root\n |-- name: string (nullable = true)\n |-- Applications: array (nullable = true)\n |    |-- element: string (containsNull = true)\n |-- new_col: array (nullable = true)\n |    |-- element: long (containsNull = true)\n\n"
     ]
    },
    {
     "output_type": "display_data",
     "data": {
      "text/html": [
       "<style scoped>\n",
       "  .table-result-container {\n",
       "    max-height: 300px;\n",
       "    overflow: auto;\n",
       "  }\n",
       "  table, th, td {\n",
       "    border: 1px solid black;\n",
       "    border-collapse: collapse;\n",
       "  }\n",
       "  th, td {\n",
       "    padding: 5px;\n",
       "  }\n",
       "  th {\n",
       "    text-align: left;\n",
       "  }\n",
       "</style><div class='table-result-container'><table class='table-result'><thead style='background-color: white'><tr><th>name</th><th>Applications</th><th>new_col</th></tr></thead><tbody><tr><td>Raja</td><td>List(TV, Refregirent, Oven, AC)</td><td>List(1, 2)</td></tr><tr><td>Raghu</td><td>List(AC, Washing machine)</td><td>List(1, 2, 3, 4, 5, 6)</td></tr><tr><td>Ramesh</td><td>List(GRinder, TV)</td><td>List(1)</td></tr><tr><td>Rajesh</td><td>List(ve)</td><td>List(1, 2)</td></tr></tbody></table></div>"
      ]
     },
     "metadata": {
      "application/vnd.databricks.v1+output": {
       "addedWidgets": {},
       "aggData": [],
       "aggError": "",
       "aggOverflow": false,
       "aggSchema": [],
       "aggSeriesLimitReached": false,
       "aggType": "",
       "arguments": {},
       "columnCustomDisplayInfos": {},
       "data": [
        [
         "Raja",
         [
          "TV",
          "Refregirent",
          "Oven",
          "AC"
         ],
         [
          1,
          2
         ]
        ],
        [
         "Raghu",
         [
          "AC",
          "Washing machine"
         ],
         [
          1,
          2,
          3,
          4,
          5,
          6
         ]
        ],
        [
         "Ramesh",
         [
          "GRinder",
          "TV"
         ],
         [
          1
         ]
        ],
        [
         "Rajesh",
         [
          "ve"
         ],
         [
          1,
          2
         ]
        ]
       ],
       "datasetInfos": [],
       "dbfsResultPath": null,
       "isJsonSchema": true,
       "metadata": {},
       "overflow": false,
       "plotOptions": {
        "customPlotOptions": {},
        "displayType": "table",
        "pivotAggregation": null,
        "pivotColumns": null,
        "xColumns": null,
        "yColumns": null
       },
       "removedWidgets": [],
       "schema": [
        {
         "metadata": "{}",
         "name": "name",
         "type": "\"string\""
        },
        {
         "metadata": "{}",
         "name": "Applications",
         "type": "{\"type\":\"array\",\"elementType\":\"string\",\"containsNull\":true}"
        },
        {
         "metadata": "{}",
         "name": "new_col",
         "type": "{\"type\":\"array\",\"elementType\":\"long\",\"containsNull\":true}"
        }
       ],
       "type": "table"
      }
     },
     "output_type": "display_data"
    }
   ],
   "source": [
    "array_applications=[\n",
    "    (\"Raja\",[\"TV\",\"Refregirent\",\"Oven\",\"AC\"],[1,2]),\n",
    "    (\"Raghu\",[\"AC\",\"Washing machine\"],[1,2,3,4,5,6]),\n",
    "    (\"Ramesh\",[\"GRinder\",\"TV\"],[1]),\n",
    "    (\"Rajesh\",[\"ve\"],[1,2])\n",
    "]\n",
    "df_app=spark.createDataFrame(data=array_applications,schema=[\"name\",\"Applications\",\"new_col\"])\n",
    "df_app.printSchema()\n",
    "display(df_app)"
   ]
  },
  {
   "cell_type": "code",
   "execution_count": 0,
   "metadata": {
    "application/vnd.databricks.v1+cell": {
     "cellMetadata": {
      "byteLimit": 2048000,
      "rowLimit": 10000
     },
     "inputWidgets": {},
     "nuid": "7ed01879-5803-404c-96de-41e0c34f7bca",
     "showTitle": false,
     "title": ""
    }
   },
   "outputs": [
    {
     "output_type": "display_data",
     "data": {
      "text/html": [
       "<style scoped>\n",
       "  .table-result-container {\n",
       "    max-height: 300px;\n",
       "    overflow: auto;\n",
       "  }\n",
       "  table, th, td {\n",
       "    border: 1px solid black;\n",
       "    border-collapse: collapse;\n",
       "  }\n",
       "  th, td {\n",
       "    padding: 5px;\n",
       "  }\n",
       "  th {\n",
       "    text-align: left;\n",
       "  }\n",
       "</style><div class='table-result-container'><table class='table-result'><thead style='background-color: white'><tr><th>name</th><th>Applications</th><th>new_col</th><th>size1</th><th>size2</th></tr></thead><tbody><tr><td>Raja</td><td>List(TV, Refregirent, Oven, AC)</td><td>List(1, 2)</td><td>4</td><td>2</td></tr><tr><td>Raghu</td><td>List(AC, Washing machine)</td><td>List(1, 2, 3, 4, 5, 6)</td><td>2</td><td>6</td></tr><tr><td>Ramesh</td><td>List(GRinder, TV)</td><td>List(1)</td><td>2</td><td>1</td></tr><tr><td>Rajesh</td><td>List(ve)</td><td>List(1, 2)</td><td>1</td><td>2</td></tr></tbody></table></div>"
      ]
     },
     "metadata": {
      "application/vnd.databricks.v1+output": {
       "addedWidgets": {},
       "aggData": [],
       "aggError": "",
       "aggOverflow": false,
       "aggSchema": [],
       "aggSeriesLimitReached": false,
       "aggType": "",
       "arguments": {},
       "columnCustomDisplayInfos": {},
       "data": [
        [
         "Raja",
         [
          "TV",
          "Refregirent",
          "Oven",
          "AC"
         ],
         [
          1,
          2
         ],
         4,
         2
        ],
        [
         "Raghu",
         [
          "AC",
          "Washing machine"
         ],
         [
          1,
          2,
          3,
          4,
          5,
          6
         ],
         2,
         6
        ],
        [
         "Ramesh",
         [
          "GRinder",
          "TV"
         ],
         [
          1
         ],
         2,
         1
        ],
        [
         "Rajesh",
         [
          "ve"
         ],
         [
          1,
          2
         ],
         1,
         2
        ]
       ],
       "datasetInfos": [],
       "dbfsResultPath": null,
       "isJsonSchema": true,
       "metadata": {},
       "overflow": false,
       "plotOptions": {
        "customPlotOptions": {},
        "displayType": "table",
        "pivotAggregation": null,
        "pivotColumns": null,
        "xColumns": null,
        "yColumns": null
       },
       "removedWidgets": [],
       "schema": [
        {
         "metadata": "{}",
         "name": "name",
         "type": "\"string\""
        },
        {
         "metadata": "{}",
         "name": "Applications",
         "type": "{\"type\":\"array\",\"elementType\":\"string\",\"containsNull\":true}"
        },
        {
         "metadata": "{}",
         "name": "new_col",
         "type": "{\"type\":\"array\",\"elementType\":\"long\",\"containsNull\":true}"
        },
        {
         "metadata": "{}",
         "name": "size1",
         "type": "\"integer\""
        },
        {
         "metadata": "{}",
         "name": "size2",
         "type": "\"integer\""
        }
       ],
       "type": "table"
      }
     },
     "output_type": "display_data"
    }
   ],
   "source": [
    "from pyspark.sql.functions import col,size\n",
    "df=df_app.withColumn(\"size1\",size(col(\"Applications\"))).withColumn(\"size2\",size(col(\"new_col\")))\n",
    "display(df)"
   ]
  },
  {
   "cell_type": "code",
   "execution_count": 0,
   "metadata": {
    "application/vnd.databricks.v1+cell": {
     "cellMetadata": {
      "byteLimit": 2048000,
      "rowLimit": 10000
     },
     "inputWidgets": {},
     "nuid": "f8bfca3c-c9df-4b0f-87e8-33ad0471098c",
     "showTitle": false,
     "title": ""
    }
   },
   "outputs": [
    {
     "output_type": "stream",
     "name": "stdout",
     "output_type": "stream",
     "text": [
      "+------+--------------------+------------------+-----+-----+\n|  name|        Applications|           new_col|size1|size2|\n+------+--------------------+------------------+-----+-----+\n|  Raja|[TV, Refregirent,...|            [1, 2]|    4|    2|\n| Raghu|[AC, Washing mach...|[1, 2, 3, 4, 5, 6]|    2|    6|\n|Ramesh|       [GRinder, TV]|               [1]|    2|    1|\n|Rajesh|                [ve]|            [1, 2]|    1|    2|\n+------+--------------------+------------------+-----+-----+\n\n"
     ]
    }
   ],
   "source": [
    "df.show()"
   ]
  },
  {
   "cell_type": "code",
   "execution_count": 0,
   "metadata": {
    "application/vnd.databricks.v1+cell": {
     "cellMetadata": {
      "byteLimit": 2048000,
      "rowLimit": 10000
     },
     "inputWidgets": {},
     "nuid": "1cb3ba7a-c828-4ca6-b54a-1da13cef3236",
     "showTitle": false,
     "title": ""
    }
   },
   "outputs": [
    {
     "output_type": "display_data",
     "data": {
      "text/html": [
       "<style scoped>\n",
       "  .table-result-container {\n",
       "    max-height: 300px;\n",
       "    overflow: auto;\n",
       "  }\n",
       "  table, th, td {\n",
       "    border: 1px solid black;\n",
       "    border-collapse: collapse;\n",
       "  }\n",
       "  th, td {\n",
       "    padding: 5px;\n",
       "  }\n",
       "  th {\n",
       "    text-align: left;\n",
       "  }\n",
       "</style><div class='table-result-container'><table class='table-result'><thead style='background-color: white'><tr><th>name</th><th>Applications</th><th>new_col</th><th>size1</th><th>size2</th><th>max_size</th></tr></thead><tbody><tr><td>Raja</td><td>List(TV, Refregirent, Oven, AC)</td><td>List(1, 2)</td><td>4</td><td>2</td><td>4</td></tr><tr><td>Raghu</td><td>List(AC, Washing machine)</td><td>List(1, 2, 3, 4, 5, 6)</td><td>2</td><td>6</td><td>6</td></tr><tr><td>Ramesh</td><td>List(GRinder, TV)</td><td>List(1)</td><td>2</td><td>1</td><td>2</td></tr><tr><td>Rajesh</td><td>List(ve)</td><td>List(1, 2)</td><td>1</td><td>2</td><td>2</td></tr></tbody></table></div>"
      ]
     },
     "metadata": {
      "application/vnd.databricks.v1+output": {
       "addedWidgets": {},
       "aggData": [],
       "aggError": "",
       "aggOverflow": false,
       "aggSchema": [],
       "aggSeriesLimitReached": false,
       "aggType": "",
       "arguments": {},
       "columnCustomDisplayInfos": {},
       "data": [
        [
         "Raja",
         [
          "TV",
          "Refregirent",
          "Oven",
          "AC"
         ],
         [
          1,
          2
         ],
         4,
         2,
         4
        ],
        [
         "Raghu",
         [
          "AC",
          "Washing machine"
         ],
         [
          1,
          2,
          3,
          4,
          5,
          6
         ],
         2,
         6,
         6
        ],
        [
         "Ramesh",
         [
          "GRinder",
          "TV"
         ],
         [
          1
         ],
         2,
         1,
         2
        ],
        [
         "Rajesh",
         [
          "ve"
         ],
         [
          1,
          2
         ],
         1,
         2,
         2
        ]
       ],
       "datasetInfos": [],
       "dbfsResultPath": null,
       "isJsonSchema": true,
       "metadata": {},
       "overflow": false,
       "plotOptions": {
        "customPlotOptions": {},
        "displayType": "table",
        "pivotAggregation": null,
        "pivotColumns": null,
        "xColumns": null,
        "yColumns": null
       },
       "removedWidgets": [],
       "schema": [
        {
         "metadata": "{}",
         "name": "name",
         "type": "\"string\""
        },
        {
         "metadata": "{}",
         "name": "Applications",
         "type": "{\"type\":\"array\",\"elementType\":\"string\",\"containsNull\":true}"
        },
        {
         "metadata": "{}",
         "name": "new_col",
         "type": "{\"type\":\"array\",\"elementType\":\"long\",\"containsNull\":true}"
        },
        {
         "metadata": "{}",
         "name": "size1",
         "type": "\"integer\""
        },
        {
         "metadata": "{}",
         "name": "size2",
         "type": "\"integer\""
        },
        {
         "metadata": "{}",
         "name": "max_size",
         "type": "\"integer\""
        }
       ],
       "type": "table"
      }
     },
     "output_type": "display_data"
    }
   ],
   "source": [
    "from pyspark.sql.functions import col, size, when, greatest\n",
    "result_df = df.withColumn(\"max_size\", greatest(col(\"size1\"), col(\"size2\")))\n",
    "result_df.display()"
   ]
  },
  {
   "cell_type": "code",
   "execution_count": 0,
   "metadata": {
    "application/vnd.databricks.v1+cell": {
     "cellMetadata": {
      "byteLimit": 2048000,
      "rowLimit": 10000
     },
     "inputWidgets": {},
     "nuid": "64aad65f-a495-4e47-aacf-d7216fc2a15f",
     "showTitle": false,
     "title": ""
    }
   },
   "outputs": [],
   "source": [
    "from pyspark.sql.functions import col, sum"
   ]
  },
  {
   "cell_type": "code",
   "execution_count": 0,
   "metadata": {
    "application/vnd.databricks.v1+cell": {
     "cellMetadata": {
      "byteLimit": 2048000,
      "rowLimit": 10000
     },
     "inputWidgets": {},
     "nuid": "cf5fb15e-c763-4e6d-8cd5-2deca2e7607a",
     "showTitle": false,
     "title": ""
    }
   },
   "outputs": [],
   "source": [
    "ans=result_df.agg(sum(result_df[\"max_size\"]))"
   ]
  },
  {
   "cell_type": "code",
   "execution_count": 0,
   "metadata": {
    "application/vnd.databricks.v1+cell": {
     "cellMetadata": {
      "byteLimit": 2048000,
      "rowLimit": 10000
     },
     "inputWidgets": {},
     "nuid": "60f894bb-3086-4c8a-8684-e7b64e68c834",
     "showTitle": false,
     "title": ""
    }
   },
   "outputs": [
    {
     "output_type": "display_data",
     "data": {
      "text/html": [
       "<style scoped>\n",
       "  .table-result-container {\n",
       "    max-height: 300px;\n",
       "    overflow: auto;\n",
       "  }\n",
       "  table, th, td {\n",
       "    border: 1px solid black;\n",
       "    border-collapse: collapse;\n",
       "  }\n",
       "  th, td {\n",
       "    padding: 5px;\n",
       "  }\n",
       "  th {\n",
       "    text-align: left;\n",
       "  }\n",
       "</style><div class='table-result-container'><table class='table-result'><thead style='background-color: white'><tr><th>sum(max_size)</th></tr></thead><tbody><tr><td>14</td></tr></tbody></table></div>"
      ]
     },
     "metadata": {
      "application/vnd.databricks.v1+output": {
       "addedWidgets": {},
       "aggData": [],
       "aggError": "",
       "aggOverflow": false,
       "aggSchema": [],
       "aggSeriesLimitReached": false,
       "aggType": "",
       "arguments": {},
       "columnCustomDisplayInfos": {},
       "data": [
        [
         14
        ]
       ],
       "datasetInfos": [],
       "dbfsResultPath": null,
       "isJsonSchema": true,
       "metadata": {},
       "overflow": false,
       "plotOptions": {
        "customPlotOptions": {},
        "displayType": "table",
        "pivotAggregation": null,
        "pivotColumns": null,
        "xColumns": null,
        "yColumns": null
       },
       "removedWidgets": [],
       "schema": [
        {
         "metadata": "{}",
         "name": "sum(max_size)",
         "type": "\"long\""
        }
       ],
       "type": "table"
      }
     },
     "output_type": "display_data"
    }
   ],
   "source": [
    "ans.display()"
   ]
  },
  {
   "cell_type": "code",
   "execution_count": 0,
   "metadata": {
    "application/vnd.databricks.v1+cell": {
     "cellMetadata": {},
     "inputWidgets": {},
     "nuid": "816cf807-4eee-4024-a224-13f170087836",
     "showTitle": false,
     "title": ""
    }
   },
   "outputs": [],
   "source": []
  }
 ],
 "metadata": {
  "application/vnd.databricks.v1+notebook": {
   "dashboards": [],
   "language": "python",
   "notebookMetadata": {
    "mostRecentlyExecutedCommandWithImplicitDF": {
     "commandId": 3255510584123878,
     "dataframes": [
      "_sqldf"
     ]
    },
    "pythonIndentUnit": 4
   },
   "notebookName": "rank, dense rank...",
   "widgets": {}
  }
 },
 "nbformat": 4,
 "nbformat_minor": 0
}
