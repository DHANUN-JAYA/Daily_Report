{
 "cells": [
  {
   "cell_type": "code",
   "execution_count": 0,
   "metadata": {
    "application/vnd.databricks.v1+cell": {
     "cellMetadata": {
      "byteLimit": 2048000,
      "rowLimit": 10000
     },
     "inputWidgets": {},
     "nuid": "2f42d845-0b3e-459c-bca5-3b15154764db",
     "showTitle": false,
     "title": ""
    }
   },
   "outputs": [],
   "source": [
    "def duplicate_primary_key(df,primary_key_columns):\n",
    "    return df.groupBy(primary_key_columns).count().filter(\"count > 1\").count()\n"
   ]
  },
  {
   "cell_type": "code",
   "execution_count": 0,
   "metadata": {
    "application/vnd.databricks.v1+cell": {
     "cellMetadata": {
      "byteLimit": 2048000,
      "rowLimit": 10000
     },
     "inputWidgets": {},
     "nuid": "124154f2-bb5a-4f41-a9b0-5de452e9f81e",
     "showTitle": false,
     "title": ""
    }
   },
   "outputs": [],
   "source": [
    "def non_null_primary_key(df,primary_key_columns):\n",
    "    return df.where(df[primary_key_columns].isNull()).count()"
   ]
  },
  {
   "cell_type": "code",
   "execution_count": 0,
   "metadata": {
    "application/vnd.databricks.v1+cell": {
     "cellMetadata": {
      "byteLimit": 2048000,
      "rowLimit": 10000
     },
     "inputWidgets": {},
     "nuid": "f265a0ab-dd0a-453b-99e2-8456331d3199",
     "showTitle": false,
     "title": ""
    }
   },
   "outputs": [],
   "source": [
    "def records_going_to_quarantine_path(df):\n",
    "    return df.where(df[\"quarantine_flag\"] == True).count()"
   ]
  },
  {
   "cell_type": "code",
   "execution_count": 0,
   "metadata": {
    "application/vnd.databricks.v1+cell": {
     "cellMetadata": {
      "byteLimit": 2048000,
      "rowLimit": 10000
     },
     "inputWidgets": {},
     "nuid": "475ea8de-40dd-47d9-bb2c-702becb8ede1",
     "showTitle": false,
     "title": ""
    }
   },
   "outputs": [],
   "source": [
    "def audit_column(silver_df,gold_df):\n",
    "    if gold_df.schema['load_date'].dataType == TimestampType() and silver_df.schema['load_date'].dataType == TimestampType():\n",
    "        return True\n",
    "    return False"
   ]
  },
  {
   "cell_type": "code",
   "execution_count": 0,
   "metadata": {
    "application/vnd.databricks.v1+cell": {
     "cellMetadata": {
      "byteLimit": 2048000,
      "rowLimit": 10000
     },
     "inputWidgets": {},
     "nuid": "1a15835b-9df2-49e2-9f2f-28d535af10a0",
     "showTitle": false,
     "title": ""
    }
   },
   "outputs": [],
   "source": [
    "def get_file_format(file_path):\n",
    "    # Get the file extension\n",
    "    file_extension = file_path.split('.')[-1]\n",
    "    return file_extension\n",
    "    "
   ]
  },
  {
   "cell_type": "code",
   "execution_count": 0,
   "metadata": {
    "application/vnd.databricks.v1+cell": {
     "cellMetadata": {
      "byteLimit": 2048000,
      "rowLimit": 10000
     },
     "inputWidgets": {},
     "nuid": "a5f09d7c-88bc-449b-9c18-93e4122ea30b",
     "showTitle": false,
     "title": ""
    }
   },
   "outputs": [],
   "source": [
    "def create_df(path,format_name,**schema):\n",
    "    df=spark.read.format(format_name).options(**schema).load(path)\n",
    "    return df"
   ]
  },
  {
   "cell_type": "code",
   "execution_count": 0,
   "metadata": {
    "application/vnd.databricks.v1+cell": {
     "cellMetadata": {},
     "inputWidgets": {},
     "nuid": "46e2a42c-4f67-406c-b5b4-64b69513b364",
     "showTitle": false,
     "title": ""
    }
   },
   "outputs": [],
   "source": []
  }
 ],
 "metadata": {
  "application/vnd.databricks.v1+notebook": {
   "dashboards": [],
   "language": "python",
   "notebookMetadata": {
    "pythonIndentUnit": 4
   },
   "notebookName": "mainCommonFunction",
   "widgets": {}
  }
 },
 "nbformat": 4,
 "nbformat_minor": 0
}
